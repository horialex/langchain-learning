{
 "cells": [
  {
   "cell_type": "markdown",
   "metadata": {},
   "source": [
    "# Langchain"
   ]
  },
  {
   "cell_type": "markdown",
   "metadata": {},
   "source": [
    "Langchain is a framework designed for working with LLM's to create powerfull applications powerd by AI. It works as an interface between the llm models and other tools and applciations. It allows us to create complex interactions between llm's, API's and different data sources"
   ]
  },
  {
   "cell_type": "markdown",
   "metadata": {},
   "source": [
    "## LLM Wrappers"
   ]
  },
  {
   "cell_type": "markdown",
   "metadata": {},
   "source": [
    "Load API keys"
   ]
  },
  {
   "cell_type": "code",
   "execution_count": 1,
   "metadata": {},
   "outputs": [
    {
     "data": {
      "text/plain": [
       "True"
      ]
     },
     "execution_count": 1,
     "metadata": {},
     "output_type": "execute_result"
    }
   ],
   "source": [
    "import os\n",
    "from dotenv import load_dotenv\n",
    "load_dotenv()"
   ]
  },
  {
   "cell_type": "markdown",
   "metadata": {},
   "source": [
    "Read env keys"
   ]
  },
  {
   "cell_type": "code",
   "execution_count": 2,
   "metadata": {},
   "outputs": [],
   "source": [
    "openai_api_key = os.getenv(\"OPEN_API_KEY\")\n",
    "hugging_face_token = os.getenv(\"HUGGINGFACEHUB_API_TOKEN\")\n",
    "langchain_token = os.getenv(\"LANGCHAIN_API_KEY\")\n",
    "\n",
    "pinecone_api_key = os.getenv(\"PINECONE_API_KEY\")\n",
    "pinecone_env = os.getenv(\"PINECONE_ENV\")\n",
    "pinecone_index_host = os.getenv(\"PINECONE_INDEX_HOST\")\n"
   ]
  },
  {
   "cell_type": "markdown",
   "metadata": {},
   "source": [
    "### LLM Wrappers"
   ]
  },
  {
   "cell_type": "code",
   "execution_count": 3,
   "metadata": {},
   "outputs": [
    {
     "name": "stderr",
     "output_type": "stream",
     "text": [
      "WARNING! max_length is not default parameter.\n",
      "                    max_length was transferred to model_kwargs.\n",
      "                    Please make sure that max_length is what you intended.\n"
     ]
    },
    {
     "name": "stdout",
     "output_type": "stream",
     "text": [
      "The token has not been saved to the git credentials helper. Pass `add_to_git_credential=True` in this function directly or `--add-to-git-credential` if using via `huggingface-cli` if you want to set the git credential as well.\n",
      "Token is valid (permission: write).\n",
      "Your token has been saved to C:\\Users\\Hori\\.cache\\huggingface\\token\n",
      "Login successful\n",
      "\n",
      "\n",
      "The FIFA World Cup in the year 1994 was won by the Brazilian national football team. Brazil defeated Italy in the final match, which was held on July 17, 1994, at the Rose Bowl in Pasadena, California, USA. Brazil's star player, Romário, was the top scorer of the tournament, with five goals. Brazil won their fourth World Cup title with this victory.\n"
     ]
    }
   ],
   "source": [
    "from langchain_huggingface import HuggingFaceEndpoint\n",
    "\n",
    "repo_id = \"mistralai/Mistral-7B-Instruct-v0.2\"\n",
    "\n",
    "# Initialize the HuggingFaceEndpoint\n",
    "llm = HuggingFaceEndpoint(repo_id=repo_id,\n",
    "                          max_length=128,\n",
    "                          temperature=0.3,\n",
    "                          huggingfacehub_api_token=hugging_face_token\n",
    "                          )\n",
    "\n",
    "# Use the llm instance as needed\n",
    "response = llm.invoke(\"Who won the FIFA World Cup in the year 1994?\")\n",
    "print(response)"
   ]
  },
  {
   "cell_type": "markdown",
   "metadata": {},
   "source": [
    "#### Chat models"
   ]
  },
  {
   "cell_type": "code",
   "execution_count": 4,
   "metadata": {},
   "outputs": [],
   "source": [
    "from langchain_core.messages import (\n",
    "    HumanMessage,\n",
    "    SystemMessage,\n",
    ")\n",
    "from langchain_huggingface import ChatHuggingFace\n",
    "\n",
    "messages = [\n",
    "    SystemMessage(content=\"You are a sports expert\"),\n",
    "    HumanMessage(content=\"Who won the world cup in 1994?\")\n",
    "]\n",
    "\n",
    "chat_model = ChatHuggingFace(llm=llm)\n"
   ]
  },
  {
   "cell_type": "code",
   "execution_count": 5,
   "metadata": {},
   "outputs": [
    {
     "data": {
      "text/plain": [
       "'mistralai/Mistral-7B-Instruct-v0.2'"
      ]
     },
     "execution_count": 5,
     "metadata": {},
     "output_type": "execute_result"
    }
   ],
   "source": [
    "chat_model.model_id"
   ]
  },
  {
   "cell_type": "code",
   "execution_count": 6,
   "metadata": {},
   "outputs": [
    {
     "data": {
      "text/plain": [
       "'<s> [INST] You are a sports expert\\n\\nWho won the world cup in 1994? [/INST]'"
      ]
     },
     "execution_count": 6,
     "metadata": {},
     "output_type": "execute_result"
    }
   ],
   "source": [
    "chat_model._to_chat_prompt(messages)"
   ]
  },
  {
   "cell_type": "code",
   "execution_count": 7,
   "metadata": {},
   "outputs": [
    {
     "name": "stdout",
     "output_type": "stream",
     "text": [
      " I'm here to help answer your sports-related questions. The 1994 FIFA World Cup was won by the Brazilian national soccer team. They defeated Italy in the final match held in the United States, with a score of 0-0 after regular time, 3-2 after penalty kicks. This title marked Brazil's fourth World Cup win, a record they share with Italy. The team, led by star players like Romário and Dunga, put\n"
     ]
    }
   ],
   "source": [
    "res = chat_model.invoke(messages)\n",
    "print(res.content)"
   ]
  },
  {
   "cell_type": "markdown",
   "metadata": {},
   "source": [
    "#### Prompt Templates"
   ]
  },
  {
   "cell_type": "code",
   "execution_count": 8,
   "metadata": {},
   "outputs": [
    {
     "data": {
      "text/plain": [
       "PromptTemplate(input_variables=['world_cup_year'], template='\\n    You are an expert european footbal commentator.\\n    Explain who won the  world cup in {world_cup_year}. and why they were successful.\\n')"
      ]
     },
     "execution_count": 8,
     "metadata": {},
     "output_type": "execute_result"
    }
   ],
   "source": [
    "from langchain import PromptTemplate\n",
    "\n",
    "template = \"\"\"\n",
    "    You are an expert european footbal commentator.\n",
    "    Explain who won the  world cup in {world_cup_year}. and why they were successful.\n",
    "\"\"\"\n",
    "\n",
    "prompt = PromptTemplate(\n",
    "    input_variables = [\"world_cup_year\"],\n",
    "    template = template,\n",
    ")\n",
    "\n",
    "prompt"
   ]
  },
  {
   "cell_type": "code",
   "execution_count": 9,
   "metadata": {},
   "outputs": [
    {
     "name": "stderr",
     "output_type": "stream",
     "text": [
      "c:\\Users\\Hori\\Desktop\\Evozon\\python\\llm\\myenv\\Lib\\site-packages\\langchain_core\\_api\\deprecation.py:139: LangChainDeprecationWarning: The method `BaseLLM.__call__` was deprecated in langchain-core 0.1.7 and will be removed in 0.3.0. Use invoke instead.\n",
      "  warn_deprecated(\n"
     ]
    },
    {
     "data": {
      "text/plain": [
       "\"\\nI'd be happy to help you with that!\\n\\nThe 2002 FIFA World Cup was won by the Brazilian national football team. This was their fifth World Cup title, making them the most successful team in the history of the tournament.\\n\\nBrazil's success in 2002 can be attributed to several factors. First and foremost was their exceptional attacking play, which was spearheaded by superstars Ronaldo and Rivaldo. Ronaldo, who had missed the 1998 World Cup due to health issues, was in top form and scored eight goals in the tournament, including two in the final against Germany. Rivaldo also chipped in with five goals.\\n\\nBrazil's midfield was another strength, with the likes of Kaká, Ronaldinho, and Edmílson providing the creativity and energy that drove the team forward. The defense, led by captain Cafu and center back Lucio, was solid and rarely gave away cheap goals.\\n\\nBrazil's tactical flexibility was also a key factor in their success. Manager Luiz Felipe Scolari employed a 3-5-2 formation in the knockout stages, which allowed Brazil to play with an extra midfielder and control the tempo of the game. This tactical switch proved crucial in the semifinal against Turkey, where Brazil won 1-0 with a late goal from Ronaldo.\\n\\nFinally, Brazil's mental strength and experience shone through in the latter stages of the tournament. They had to come from behind to beat Turkey and South Korea in the knockout stages, and they showed great resilience and composure in the final against Germany, who had beaten them in the group stage. Brazil's victory in the final was a testament to their character and their ability to rise to the occasion when it mattered most.\""
      ]
     },
     "execution_count": 9,
     "metadata": {},
     "output_type": "execute_result"
    }
   ],
   "source": [
    "llm(prompt.format(world_cup_year=\"2002\"))"
   ]
  },
  {
   "cell_type": "markdown",
   "metadata": {},
   "source": [
    "#### Chains\n",
    "\n",
    "Takes a language model and a prompt template and combines them to an interface that takes an input from the user and outputs an answer from the llm - sort of like a composite function where the inner function is the prompt template and the outer function is the language model\n",
    "\n",
    "We can also build composite chains where one chain outputs and answer and than we have a second chain that takes the output of the first chain as an input"
   ]
  },
  {
   "cell_type": "code",
   "execution_count": 10,
   "metadata": {},
   "outputs": [
    {
     "name": "stdout",
     "output_type": "stream",
     "text": [
      "\n",
      "I'd be happy to help you with that!\n",
      "\n",
      "The 2002 FIFA World Cup was won by the Brazilian national football team. This was their fifth World Cup title, making them the most successful team in the history of the tournament.\n",
      "\n",
      "Brazil's success in 2002 can be attributed to several factors. First and foremost was their exceptional attacking play, which was spearheaded by superstars Ronaldo and Rivaldo. Ronaldo, who had missed the 1998 World Cup due to health issues, was in top form and scored eight goals in the tournament, including two in the final against Germany. Rivaldo also chipped in with five goals.\n",
      "\n",
      "Brazil's midfield was another strength, with the likes of Kaká, Ronaldinho, and Edmílson providing the creativity and energy that drove the team forward. The defense, led by captain Cafu and center back Lucio, was solid and rarely gave away cheap goals.\n",
      "\n",
      "Brazil's tactical flexibility was also a key factor in their success. Manager Luiz Felipe Scolari employed a 3-5-2 formation in the knockout stages, which allowed Brazil to play with an extra midfielder and control the tempo of the game. This tactical switch proved crucial in the semifinal against Turkey, where Brazil won 1-0 with a late goal from Ronaldo.\n",
      "\n",
      "Finally, Brazil's mental strength and experience shone through in the latter stages of the tournament. They had to come from behind to beat Turkey and South Korea in the knockout stages, and they showed great resilience and composure in the final against Germany, who had beaten them in the group stage. Brazil's victory in the final was a testament to their character and their ability to rise to the occasion when it mattered most.\n"
     ]
    },
    {
     "name": "stderr",
     "output_type": "stream",
     "text": [
      "c:\\Users\\Hori\\Desktop\\Evozon\\python\\llm\\myenv\\Lib\\site-packages\\langchain_core\\_api\\deprecation.py:139: LangChainDeprecationWarning: The class `LLMChain` was deprecated in LangChain 0.1.17 and will be removed in 1.0. Use RunnableSequence, e.g., `prompt | llm` instead.\n",
      "  warn_deprecated(\n",
      "c:\\Users\\Hori\\Desktop\\Evozon\\python\\llm\\myenv\\Lib\\site-packages\\langchain_core\\_api\\deprecation.py:139: LangChainDeprecationWarning: The method `Chain.run` was deprecated in langchain 0.1.0 and will be removed in 0.3.0. Use invoke instead.\n",
      "  warn_deprecated(\n"
     ]
    }
   ],
   "source": [
    "from langchain.chains import LLMChain\n",
    "\n",
    "chain = LLMChain(llm=llm, prompt=prompt)\n",
    "\n",
    "#Run the chain only specifying the input variable\n",
    "print(chain.run(\"2002\"))"
   ]
  },
  {
   "cell_type": "code",
   "execution_count": 11,
   "metadata": {},
   "outputs": [],
   "source": [
    "second_prompt = PromptTemplate(\n",
    "    input_variables = [\"year\"],\n",
    "    template = \"Who was the best player of that world cup in {year} of that team that won the world cup\",\n",
    ")\n",
    "\n",
    "chain_two = LLMChain(llm=llm, prompt=second_prompt)"
   ]
  },
  {
   "cell_type": "code",
   "execution_count": 12,
   "metadata": {},
   "outputs": [],
   "source": [
    "third_prompt = PromptTemplate(\n",
    "    input_variables = [\"year\"],\n",
    "    template = \"What was the average posession of the team who won the world cup in {year}\",\n",
    ")\n",
    "\n",
    "chain_three = LLMChain(llm=llm, prompt=third_prompt)"
   ]
  },
  {
   "cell_type": "code",
   "execution_count": 13,
   "metadata": {},
   "outputs": [
    {
     "name": "stdout",
     "output_type": "stream",
     "text": [
      "\n",
      "\n",
      "\u001b[1m> Entering new SimpleSequentialChain chain...\u001b[0m\n",
      "\u001b[36;1m\u001b[1;3m\n",
      "I'd be happy to help you with that!\n",
      "\n",
      "The 2010 FIFA World Cup was won by Spain. This was a historic achievement for the Spanish national team, as they became the first European team to win the World Cup on South American soil.\n",
      "\n",
      "Spain's success in the tournament can be attributed to several factors. First and foremost was their exceptional team play and passing ability. Spain's midfield, in particular, was a force to be reckoned with, with players like Xavi Hernandez, Andres Iniesta, and Sergio Busquets controlling the tempo of the game and creating scoring opportunities.\n",
      "\n",
      "Another key factor was Spain's defensive solidity. They conceded just three goals in seven games, thanks in large part to the excellent performances of goalkeeper Iker Casillas and central defenders Carlos Puyol and Gerard Pique.\n",
      "\n",
      "Spain also had a strong attacking threat, with players like David Villa and Fernando Torres capable of scoring goals. Villa, in particular, had a standout tournament, scoring five goals and being named the Golden Boot winner as the top scorer of the tournament.\n",
      "\n",
      "Finally, Spain's experience and mental toughness were crucial in their success. They had a core group of players who had played together for years, both at the club and international level, which helped them gel as a team and stay focused throughout the tournament. They also showed great resilience in coming back from a goal down in the final against the Netherlands to win 1-0 in extra time.\n",
      "\n",
      "Overall, Spain's combination of exceptional team play, defensive solidity, attacking threat, and mental toughness made them a deserving winner of the 2010 FIFA World Cup.\u001b[0m\n",
      "\u001b[33;1m\u001b[1;3m in 2010, I would say that Xavi Hernandez was the best player. He was the heart of Spain's midfield and controlled the tempo of the game with his exceptional passing ability. He also scored the opening goal in the final against the Netherlands. Xavi's performances throughout the tournament were consistently excellent, and he was a key reason why Spain were able to win the World Cup.\u001b[0m\n",
      "\u001b[38;5;200m\u001b[1;3m\n",
      "\n",
      "However, to answer your question, the average possession for Spain during the 2010 World Cup was 68.3%. This was the highest possession percentage in the tournament and was a testament to Spain's dominance of the ball and their ability to keep possession for long periods of time. This allowed them to control the game and wear down their opponents, making it difficult for them to mount effective attacks.\u001b[0m\n",
      "\n",
      "\u001b[1m> Finished chain.\u001b[0m\n",
      "\n",
      "\n",
      "However, to answer your question, the average possession for Spain during the 2010 World Cup was 68.3%. This was the highest possession percentage in the tournament and was a testament to Spain's dominance of the ball and their ability to keep possession for long periods of time. This allowed them to control the game and wear down their opponents, making it difficult for them to mount effective attacks.\n"
     ]
    }
   ],
   "source": [
    "from langchain.chains import SimpleSequentialChain\n",
    "\n",
    "overall_chain = SimpleSequentialChain(chains=[chain, chain_two, chain_three], verbose=True)\n",
    "\n",
    "# Run the chain specifying only the input variable of the first chain\n",
    "explanation = overall_chain.run(\"2010\")\n",
    "print(explanation)"
   ]
  },
  {
   "cell_type": "code",
   "execution_count": 14,
   "metadata": {},
   "outputs": [
    {
     "name": "stdout",
     "output_type": "stream",
     "text": [
      "\n",
      "\n",
      "However, to answer your question, the average possession for Spain during the 2010 World Cup was 68.3%. This was the highest possession percentage in the tournament and was a testament to Spain's dominance of the ball and their ability to keep possession for long periods of time. This allowed them to control the game and wear down their opponents, making it difficult for them to mount effective attacks.\n"
     ]
    }
   ],
   "source": [
    "print(explanation)"
   ]
  },
  {
   "cell_type": "code",
   "execution_count": 15,
   "metadata": {},
   "outputs": [
    {
     "name": "stdout",
     "output_type": "stream",
     "text": [
      "[\"\\nI'd be happy to help you with that!\\n\\nThe 2010 FIFA World Cup was won by Spain. This was a historic achievement for the Spanish national team, as they became the first European team to win the World Cup on South American soil.\\n\\nSpain's success in the tournament can be attributed to several factors. First and foremost was their exceptional team play and passing ability. Spain's midfield, in particular, was a force to be reckoned with, with players like Xavi Hernandez, Andres Iniesta, and Sergio Busquets controlling the tempo of the game and creating scoring opportunities.\\n\\nAnother key factor was Spain's defensive solidity. They conceded just three goals in seven games, thanks in large part to the excellent performances of goalkeeper Iker Casillas and central defenders Carlos Puyol and Gerard Pique.\\n\\nSpain also had a strong attacking threat, with players like David Villa and Fernando Torres capable of scoring goals. Villa, in particular, had a standout tournament, scoring five goals and being named the Golden Boot winner as the top scorer of the tournament.\\n\\nFinally, Spain's experience and mental toughness were crucial in their success. They had a core group of players who had played together for years, both at the club and international level, which helped them gel as a team and stay focused throughout the tournament. They also showed great resilience in coming back from a goal down in the final against the Netherlands to win 1-0 in extra time.\\n\\nOverall, Spain's combination of exceptional team play, defensive solidity, attacking threat, and mental toughness made them a deserving winner of the 2010 FIFA World Cup.\", \" in 2010, I would say that Xavi Hernandez was the best player. He was the heart of Spain's midfield and controlled the tempo of the game with his exceptional passing ability. He also scored the opening goal in the final against the Netherlands. Xavi's performances throughout the tournament were consistently excellent, and he was a key reason why Spain were able to win the World Cup.\", \"\\n\\nHowever, to answer your question, the average possession for Spain during the 2010 World Cup was 68.3%. This was the highest possession percentage in the tournament and was a testament to Spain's dominance of the ball and their ability to keep possession for long periods of time. This allowed them to control the game and wear down their opponents, making it difficult for them to mount effective attacks.\"]\n",
      "\n",
      "\n",
      "However, to answer your question, the average possession for Spain during the 2010 World Cup was 68.3%. This was the highest possession percentage in the tournament and was a testament to Spain's dominance of the ball and their ability to keep possession for long periods of time. This allowed them to control the game and wear down their opponents, making it difficult for them to mount effective attacks.\n"
     ]
    }
   ],
   "source": [
    "# Custom function to run each chain and collect their outputs\n",
    "def run_chains_and_collect_outputs(overall_chain, input_data):\n",
    "    outputs = []\n",
    "    current_input = input_data\n",
    "    for chain in overall_chain.chains:\n",
    "        current_output = chain.run(current_input)\n",
    "        outputs.append(current_output)\n",
    "        current_input = current_output\n",
    "    return outputs\n",
    "\n",
    "# Run the custom function and collect outputs\n",
    "all_outputs = run_chains_and_collect_outputs(overall_chain, \"2010\")\n",
    "\n",
    "# The last output will be in the last position of the list\n",
    "final_output = all_outputs[-1]\n",
    "\n",
    "print(all_outputs)  # To see all outputs\n",
    "print(final_output)  # To see the final output"
   ]
  },
  {
   "cell_type": "markdown",
   "metadata": {},
   "source": [
    "Merge the responses"
   ]
  },
  {
   "cell_type": "code",
   "execution_count": 16,
   "metadata": {},
   "outputs": [],
   "source": [
    "result = ', '.join(all_outputs)"
   ]
  },
  {
   "cell_type": "markdown",
   "metadata": {},
   "source": [
    "#### Embeddings and vector stores"
   ]
  },
  {
   "cell_type": "markdown",
   "metadata": {},
   "source": [
    "Split the text into chunks"
   ]
  },
  {
   "cell_type": "code",
   "execution_count": 17,
   "metadata": {},
   "outputs": [],
   "source": [
    "from langchain.text_splitter import RecursiveCharacterTextSplitter\n",
    "\n",
    "def get_recursive_text_splitter(chunk_size, chunk_overlap):\n",
    "    return RecursiveCharacterTextSplitter(\n",
    "        chunk_size = chunk_size,\n",
    "        chunk_overlap = chunk_overlap,\n",
    "    )\n",
    "    \n",
    "def split_documents(docs, text_splitter):\n",
    "    return  text_splitter.create_documents([docs])\n",
    "\n",
    "\n",
    "text_splitter = get_recursive_text_splitter(chunk_size=100, chunk_overlap=0)\n",
    "splitted_docs = split_documents(result, text_splitter)"
   ]
  },
  {
   "cell_type": "code",
   "execution_count": 18,
   "metadata": {},
   "outputs": [
    {
     "name": "stdout",
     "output_type": "stream",
     "text": [
      "I'd be happy to help you with that!\n",
      "The 2010 FIFA World Cup was won by Spain. This was a historic achievement for the Spanish national\n",
      "team, as they became the first European team to win the World Cup on South American soil.\n",
      "Spain's success in the tournament can be attributed to several factors. First and foremost was\n",
      "their exceptional team play and passing ability. Spain's midfield, in particular, was a force to be\n",
      "reckoned with, with players like Xavi Hernandez, Andres Iniesta, and Sergio Busquets controlling\n",
      "the tempo of the game and creating scoring opportunities.\n",
      "Another key factor was Spain's defensive solidity. They conceded just three goals in seven games,\n",
      "thanks in large part to the excellent performances of goalkeeper Iker Casillas and central\n",
      "defenders Carlos Puyol and Gerard Pique.\n",
      "Spain also had a strong attacking threat, with players like David Villa and Fernando Torres capable\n",
      "of scoring goals. Villa, in particular, had a standout tournament, scoring five goals and being\n",
      "named the Golden Boot winner as the top scorer of the tournament.\n",
      "Finally, Spain's experience and mental toughness were crucial in their success. They had a core\n",
      "group of players who had played together for years, both at the club and international level, which\n",
      "helped them gel as a team and stay focused throughout the tournament. They also showed great\n",
      "resilience in coming back from a goal down in the final against the Netherlands to win 1-0 in extra\n",
      "time.\n",
      "Overall, Spain's combination of exceptional team play, defensive solidity, attacking threat, and\n",
      "mental toughness made them a deserving winner of the 2010 FIFA World Cup.,  in 2010, I would say\n",
      "that Xavi Hernandez was the best player. He was the heart of Spain's midfield and controlled the\n",
      "tempo of the game with his exceptional passing ability. He also scored the opening goal in the\n",
      "final against the Netherlands. Xavi's performances throughout the tournament were consistently\n",
      "excellent, and he was a key reason why Spain were able to win the World Cup.,\n",
      "However, to answer your question, the average possession for Spain during the 2010 World Cup was\n",
      "68.3%. This was the highest possession percentage in the tournament and was a testament to Spain's\n",
      "dominance of the ball and their ability to keep possession for long periods of time. This allowed\n",
      "them to control the game and wear down their opponents, making it difficult for them to mount\n",
      "effective attacks.\n"
     ]
    }
   ],
   "source": [
    "for text in splitted_docs:\n",
    "    print(text.page_content)"
   ]
  },
  {
   "cell_type": "markdown",
   "metadata": {},
   "source": [
    "### Create a datasest with the texts \n",
    "\n",
    "I will create a pandas dataset where I will insert the text and asign a unique id for each separate text"
   ]
  },
  {
   "cell_type": "code",
   "execution_count": 19,
   "metadata": {},
   "outputs": [],
   "source": [
    "import pandas as pd\n",
    "import uuid\n",
    "\n",
    "# Function to generate unique IDs\n",
    "def generate_unique_id():\n",
    "    return str(uuid.uuid4())\n",
    "\n",
    "\n",
    "# Extract the page_content from each Document object into a separate list\n",
    "page_contents = [doc.page_content for doc in splitted_docs]\n",
    "\n",
    "df = pd.DataFrame(page_contents, columns=[\"chunk\"])\n",
    "\n",
    "# Generate a unique ID for each row and add it as a new column in the DataFrame\n",
    "df['unique_id'] = df.apply(lambda row: generate_unique_id(), axis=1)\n"
   ]
  },
  {
   "cell_type": "markdown",
   "metadata": {},
   "source": [
    "Turn the text into Embeddings, first i need to import an embeddings model"
   ]
  },
  {
   "cell_type": "code",
   "execution_count": 20,
   "metadata": {},
   "outputs": [],
   "source": [
    "from langchain_huggingface import HuggingFaceEmbeddings\n",
    "\n",
    "small_embeddings_model = 'sentence-transformers/all-MiniLM-L6-v2'\n",
    "normal_embeddings_model = 'sentence-transformers/all-mpnet-base-v2'\n",
    "\n",
    "model_kwargs = {'device': 'cpu'}\n",
    "encode_kwargs = {'normalize_embeddings': False}\n",
    "\n",
    "embeddings = HuggingFaceEmbeddings(\n",
    "    model_name=normal_embeddings_model,\n",
    "    model_kwargs=model_kwargs,\n",
    "    encode_kwargs=encode_kwargs,\n",
    ")"
   ]
  },
  {
   "cell_type": "markdown",
   "metadata": {},
   "source": [
    "Transform the chuntks in the dataset into embeddings"
   ]
  },
  {
   "cell_type": "code",
   "execution_count": 21,
   "metadata": {},
   "outputs": [],
   "source": [
    "df['embedding'] = df['chunk'].apply(lambda text: embeddings.embed_query(text))"
   ]
  },
  {
   "cell_type": "code",
   "execution_count": 22,
   "metadata": {},
   "outputs": [
    {
     "data": {
      "text/html": [
       "<div>\n",
       "<style scoped>\n",
       "    .dataframe tbody tr th:only-of-type {\n",
       "        vertical-align: middle;\n",
       "    }\n",
       "\n",
       "    .dataframe tbody tr th {\n",
       "        vertical-align: top;\n",
       "    }\n",
       "\n",
       "    .dataframe thead th {\n",
       "        text-align: right;\n",
       "    }\n",
       "</style>\n",
       "<table border=\"1\" class=\"dataframe\">\n",
       "  <thead>\n",
       "    <tr style=\"text-align: right;\">\n",
       "      <th></th>\n",
       "      <th>chunk</th>\n",
       "      <th>unique_id</th>\n",
       "      <th>embedding</th>\n",
       "    </tr>\n",
       "  </thead>\n",
       "  <tbody>\n",
       "    <tr>\n",
       "      <th>0</th>\n",
       "      <td>I'd be happy to help you with that!</td>\n",
       "      <td>c882dbfe-5c69-41e5-87a3-adab202a41d1</td>\n",
       "      <td>[0.0031824701000005007, 0.028275931254029274, ...</td>\n",
       "    </tr>\n",
       "    <tr>\n",
       "      <th>1</th>\n",
       "      <td>The 2010 FIFA World Cup was won by Spain. This...</td>\n",
       "      <td>51d6ed3f-16f3-423b-af6e-c5a719e11647</td>\n",
       "      <td>[0.011273376643657684, 0.024946296587586403, -...</td>\n",
       "    </tr>\n",
       "    <tr>\n",
       "      <th>2</th>\n",
       "      <td>team, as they became the first European team t...</td>\n",
       "      <td>d72b1952-a41a-47d7-a6b5-c48785a9da9b</td>\n",
       "      <td>[-0.048796359449625015, -0.040353938937187195,...</td>\n",
       "    </tr>\n",
       "    <tr>\n",
       "      <th>3</th>\n",
       "      <td>Spain's success in the tournament can be attri...</td>\n",
       "      <td>459a2818-776a-4c6f-ac2d-8834f751452a</td>\n",
       "      <td>[0.025057660415768623, -0.004411689005792141, ...</td>\n",
       "    </tr>\n",
       "    <tr>\n",
       "      <th>4</th>\n",
       "      <td>their exceptional team play and passing abilit...</td>\n",
       "      <td>9a6c47ae-841a-48a2-a18e-baf7dfd223e5</td>\n",
       "      <td>[-0.006107549648731947, -0.03988241031765938, ...</td>\n",
       "    </tr>\n",
       "  </tbody>\n",
       "</table>\n",
       "</div>"
      ],
      "text/plain": [
       "                                               chunk  \\\n",
       "0                I'd be happy to help you with that!   \n",
       "1  The 2010 FIFA World Cup was won by Spain. This...   \n",
       "2  team, as they became the first European team t...   \n",
       "3  Spain's success in the tournament can be attri...   \n",
       "4  their exceptional team play and passing abilit...   \n",
       "\n",
       "                              unique_id  \\\n",
       "0  c882dbfe-5c69-41e5-87a3-adab202a41d1   \n",
       "1  51d6ed3f-16f3-423b-af6e-c5a719e11647   \n",
       "2  d72b1952-a41a-47d7-a6b5-c48785a9da9b   \n",
       "3  459a2818-776a-4c6f-ac2d-8834f751452a   \n",
       "4  9a6c47ae-841a-48a2-a18e-baf7dfd223e5   \n",
       "\n",
       "                                           embedding  \n",
       "0  [0.0031824701000005007, 0.028275931254029274, ...  \n",
       "1  [0.011273376643657684, 0.024946296587586403, -...  \n",
       "2  [-0.048796359449625015, -0.040353938937187195,...  \n",
       "3  [0.025057660415768623, -0.004411689005792141, ...  \n",
       "4  [-0.006107549648731947, -0.03988241031765938, ...  "
      ]
     },
     "execution_count": 22,
     "metadata": {},
     "output_type": "execute_result"
    }
   ],
   "source": [
    "df.head()"
   ]
  },
  {
   "cell_type": "markdown",
   "metadata": {},
   "source": [
    "Connect to pinecone and create an index if it does not exist"
   ]
  },
  {
   "cell_type": "code",
   "execution_count": 24,
   "metadata": {},
   "outputs": [],
   "source": [
    "import pinecone\n",
    "from pinecone import Pinecone, ServerlessSpec\n",
    "\n",
    "pc = Pinecone(api_key=pinecone_api_key)\n",
    "\n",
    "index_name = \"test-index\"\n",
    "index_list = pc.list_indexes()\n",
    "embedding_dimensions = len(df['embedding'][0])\n",
    "\n",
    "\n",
    "def check_index_exists(data, index_name):\n",
    "    indexes = data.get('indexes', [])\n",
    "    for index in indexes:\n",
    "        if index.get('name') == index_name:\n",
    "            return True\n",
    "    return False\n",
    "\n",
    "# Check if the index already exists\n",
    "if check_index_exists(index_list, index_name) is False:\n",
    "    pc.create_index(\n",
    "        name=index_name,\n",
    "        dimension=embedding_dimensions, # Replace with your model dimensions\n",
    "        metric=\"euclidean\", # Replace with your model metric\n",
    "        spec=ServerlessSpec(\n",
    "            cloud=\"aws\",\n",
    "            region=\"us-east-1\"\n",
    "        ) \n",
    "    )"
   ]
  },
  {
   "cell_type": "markdown",
   "metadata": {},
   "source": [
    "Grab the index from pinecone"
   ]
  },
  {
   "cell_type": "code",
   "execution_count": 25,
   "metadata": {},
   "outputs": [],
   "source": [
    "index = pinecone.Index(api_key=pinecone_api_key,\n",
    "                       host=pinecone_index_host,\n",
    "                       index_name=index_name\n",
    "                       )"
   ]
  },
  {
   "cell_type": "markdown",
   "metadata": {},
   "source": [
    "Create a list of dictionaries for the data you want to upsert in the Pinecone vector store"
   ]
  },
  {
   "cell_type": "code",
   "execution_count": 26,
   "metadata": {},
   "outputs": [],
   "source": [
    "data_to_upsert = [\n",
    "    {\n",
    "        \"id\": row['unique_id'],\n",
    "        \"values\": row['embedding']\n",
    "    }\n",
    "    for index, row in df.iterrows()\n",
    "]"
   ]
  },
  {
   "cell_type": "markdown",
   "metadata": {},
   "source": [
    "Upload the mebeddings to the vector store"
   ]
  },
  {
   "cell_type": "code",
   "execution_count": 27,
   "metadata": {},
   "outputs": [
    {
     "name": "stdout",
     "output_type": "stream",
     "text": [
      "29 documents successfully upserted to Pinecone index.\n"
     ]
    }
   ],
   "source": [
    "index.upsert(vectors=data_to_upsert)\n",
    "print(f\"{len(data_to_upsert)} documents successfully upserted to Pinecone index.\")"
   ]
  },
  {
   "cell_type": "markdown",
   "metadata": {},
   "source": [
    "### Query the documents we have in the vector store"
   ]
  },
  {
   "cell_type": "markdown",
   "metadata": {},
   "source": [
    "Query the pinecone vector store to find out the most simmilar docs given a question"
   ]
  },
  {
   "cell_type": "markdown",
   "metadata": {},
   "source": [
    "Pause the exectuion to wait for pinecone"
   ]
  },
  {
   "cell_type": "code",
   "execution_count": 36,
   "metadata": {},
   "outputs": [],
   "source": [
    "import time\n",
    "\n",
    "#Stop for a few seconds so it can index the data in pinecone\n",
    "time.sleep(10)"
   ]
  },
  {
   "cell_type": "code",
   "execution_count": 37,
   "metadata": {},
   "outputs": [
    {
     "name": "stdout",
     "output_type": "stream",
     "text": [
      "Top 1 similar documents:\n",
      "1. Document ID: 25d11145-0c0f-48c0-90ac-93dc0218cc26, Similarity Score: 1.31664336\n"
     ]
    }
   ],
   "source": [
    "# Top k answers\n",
    "top_k = 1\n",
    "\n",
    "# Question\n",
    "question = \"What was the average posession?\"\n",
    "# Questin embeddings vector\n",
    "query_vector = embeddings.embed_query(question)\n",
    "\n",
    "results = index.query(\n",
    "    vector=query_vector,\n",
    "    top_k=top_k,\n",
    "    include_values=True\n",
    ")\n",
    "\n",
    "# Iterate over matches and print document IDs and scores\n",
    "print(\"Top {} similar documents:\".format(len(results.matches)))\n",
    "for idx, match in enumerate(results.matches):\n",
    "    doc_id = match['id']\n",
    "    score = match['score']\n",
    "    print(f\"{idx + 1}. Document ID: {doc_id}, Similarity Score: {score}\")\n"
   ]
  },
  {
   "cell_type": "markdown",
   "metadata": {},
   "source": [
    "### Match the resutls with the chunks I have in the dataframe"
   ]
  },
  {
   "cell_type": "markdown",
   "metadata": {},
   "source": [
    "Now I need to associate the answers retunrned by the query with the original texts(chunks) from the dataframe"
   ]
  },
  {
   "cell_type": "code",
   "execution_count": 38,
   "metadata": {},
   "outputs": [],
   "source": [
    "# Define the method to find text by UUID\n",
    "def find_text_by_uuid(df, uuid, text_column='chunk', id_column='unique_id'):\n",
    "    result = df[df[id_column] == uuid]\n",
    "    if not result.empty:\n",
    "        return result.iloc[0][text_column]\n",
    "    else:\n",
    "        return None\n",
    "\n",
    "answers = []\n",
    "\n",
    "for match in results.matches:\n",
    "    answer = {\n",
    "        'uuid': match['id'],\n",
    "        'chunk': find_text_by_uuid(df, match['id']),\n",
    "        'score': match['score']\n",
    "    }\n",
    "    answers.append(answer)\n",
    "\n",
    "# Sort the answers    \n",
    "answers = sorted(answers, key=lambda x: x['score'], reverse=True)"
   ]
  },
  {
   "cell_type": "markdown",
   "metadata": {},
   "source": [
    "Sort the answers descendingly"
   ]
  },
  {
   "cell_type": "code",
   "execution_count": 39,
   "metadata": {},
   "outputs": [
    {
     "name": "stdout",
     "output_type": "stream",
     "text": [
      "[\"68.3%. This was the highest possession percentage in the tournament and was a testament to Spain's\"]\n"
     ]
    }
   ],
   "source": [
    "texts_responses = [answer['chunk'] for answer in answers]\n",
    "print(texts_responses)"
   ]
  },
  {
   "cell_type": "markdown",
   "metadata": {},
   "source": [
    "Grab the first answer, the answer with the hightest score:"
   ]
  },
  {
   "cell_type": "code",
   "execution_count": 40,
   "metadata": {},
   "outputs": [
    {
     "name": "stdout",
     "output_type": "stream",
     "text": [
      "68.3%. This was the highest possession percentage in the tournament and was a testament to Spain's\n"
     ]
    }
   ],
   "source": [
    "most_probable_response = texts_responses[0]\n",
    "print(most_probable_response)"
   ]
  }
 ],
 "metadata": {
  "kernelspec": {
   "display_name": "myenv",
   "language": "python",
   "name": "python3"
  },
  "language_info": {
   "codemirror_mode": {
    "name": "ipython",
    "version": 3
   },
   "file_extension": ".py",
   "mimetype": "text/x-python",
   "name": "python",
   "nbconvert_exporter": "python",
   "pygments_lexer": "ipython3",
   "version": "3.12.2"
  }
 },
 "nbformat": 4,
 "nbformat_minor": 2
}
