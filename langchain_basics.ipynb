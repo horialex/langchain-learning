{
 "cells": [
  {
   "cell_type": "markdown",
   "metadata": {},
   "source": [
    "# Langchain"
   ]
  },
  {
   "cell_type": "markdown",
   "metadata": {},
   "source": [
    "Langchain is a framework designed for working with LLM's to create powerfull applications powerd by AI. It works as an interface between the llm models and other tools and applciations. It allows us to create complex interactions between llm's, API's and different data sources"
   ]
  },
  {
   "cell_type": "markdown",
   "metadata": {},
   "source": [
    "## LLM Wrappers"
   ]
  },
  {
   "cell_type": "markdown",
   "metadata": {},
   "source": [
    "Load API keys"
   ]
  },
  {
   "cell_type": "code",
   "execution_count": 1,
   "metadata": {},
   "outputs": [
    {
     "data": {
      "text/plain": [
       "True"
      ]
     },
     "execution_count": 1,
     "metadata": {},
     "output_type": "execute_result"
    }
   ],
   "source": [
    "import os\n",
    "from dotenv import load_dotenv\n",
    "load_dotenv()"
   ]
  },
  {
   "cell_type": "markdown",
   "metadata": {},
   "source": [
    "Read env keys"
   ]
  },
  {
   "cell_type": "code",
   "execution_count": 2,
   "metadata": {},
   "outputs": [],
   "source": [
    "openai_api_key = os.getenv(\"OPEN_API_KEY\")\n",
    "hugging_face_token = os.getenv(\"HUGGINGFACEHUB_API_TOKEN\")\n",
    "langchain_token = os.getenv(\"LANGCHAIN_API_KEY\")\n",
    "\n",
    "pinecone_api_key = os.getenv(\"PINECONE_API_KEY\")\n",
    "pinecone_env = os.getenv(\"PINECONE_ENV\")\n",
    "pinecone_index_host = os.getenv(\"PINECONE_INDEX_HOST\")\n"
   ]
  },
  {
   "cell_type": "markdown",
   "metadata": {},
   "source": [
    "### LLM Wrappers"
   ]
  },
  {
   "cell_type": "code",
   "execution_count": 3,
   "metadata": {},
   "outputs": [
    {
     "name": "stderr",
     "output_type": "stream",
     "text": [
      "WARNING! max_length is not default parameter.\n",
      "                    max_length was transferred to model_kwargs.\n",
      "                    Please make sure that max_length is what you intended.\n"
     ]
    },
    {
     "name": "stdout",
     "output_type": "stream",
     "text": [
      "The token has not been saved to the git credentials helper. Pass `add_to_git_credential=True` in this function directly or `--add-to-git-credential` if using via `huggingface-cli` if you want to set the git credential as well.\n",
      "Token is valid (permission: write).\n",
      "Your token has been saved to C:\\Users\\Hori\\.cache\\huggingface\\token\n",
      "Login successful\n",
      "\n",
      "\n",
      "The FIFA World Cup in the year 1994 was won by the Brazilian national football team. Brazil defeated Italy in the final match, which was held on July 17, 1994, at the Rose Bowl in Pasadena, California, USA. Brazil's star player, Romário, was the top scorer of the tournament, with five goals. Brazil won their fourth World Cup title with this victory.\n"
     ]
    }
   ],
   "source": [
    "from langchain_huggingface import HuggingFaceEndpoint\n",
    "\n",
    "repo_id = \"mistralai/Mistral-7B-Instruct-v0.2\"\n",
    "\n",
    "# Initialize the HuggingFaceEndpoint\n",
    "llm = HuggingFaceEndpoint(repo_id=repo_id,\n",
    "                          max_length=128,\n",
    "                          temperature=0.3,\n",
    "                          huggingfacehub_api_token=hugging_face_token\n",
    "                          )\n",
    "\n",
    "# Use the llm instance as needed\n",
    "response = llm.invoke(\"Who won the FIFA World Cup in the year 1994?\")\n",
    "print(response)"
   ]
  },
  {
   "cell_type": "markdown",
   "metadata": {},
   "source": [
    "#### Chat models"
   ]
  },
  {
   "cell_type": "code",
   "execution_count": 4,
   "metadata": {},
   "outputs": [],
   "source": [
    "from langchain_core.messages import (\n",
    "    HumanMessage,\n",
    "    SystemMessage,\n",
    ")\n",
    "from langchain_huggingface import ChatHuggingFace\n",
    "\n",
    "messages = [\n",
    "    SystemMessage(content=\"You are a sports expert\"),\n",
    "    HumanMessage(content=\"Who won the world cup in 1994?\")\n",
    "]\n",
    "\n",
    "chat_model = ChatHuggingFace(llm=llm)\n"
   ]
  },
  {
   "cell_type": "code",
   "execution_count": 5,
   "metadata": {},
   "outputs": [
    {
     "data": {
      "text/plain": [
       "'mistralai/Mistral-7B-Instruct-v0.2'"
      ]
     },
     "execution_count": 5,
     "metadata": {},
     "output_type": "execute_result"
    }
   ],
   "source": [
    "chat_model.model_id"
   ]
  },
  {
   "cell_type": "code",
   "execution_count": 6,
   "metadata": {},
   "outputs": [
    {
     "data": {
      "text/plain": [
       "'<s> [INST] You are a sports expert\\n\\nWho won the world cup in 1994? [/INST]'"
      ]
     },
     "execution_count": 6,
     "metadata": {},
     "output_type": "execute_result"
    }
   ],
   "source": [
    "chat_model._to_chat_prompt(messages)"
   ]
  },
  {
   "cell_type": "code",
   "execution_count": 7,
   "metadata": {},
   "outputs": [
    {
     "name": "stdout",
     "output_type": "stream",
     "text": [
      " I'm here to help answer your sports-related questions. The 1994 FIFA World Cup was won by the Brazilian national soccer team. They defeated Italy in the final match held in the United States, with a score of 0-0 after regular time, 3-2 after penalty kicks. This title marked Brazil's fourth World Cup win, a record they share with Italy. The team, led by star players like Romário and Dunga, put\n"
     ]
    }
   ],
   "source": [
    "res = chat_model.invoke(messages)\n",
    "print(res.content)"
   ]
  },
  {
   "cell_type": "markdown",
   "metadata": {},
   "source": [
    "#### Prompt Templates"
   ]
  },
  {
   "cell_type": "code",
   "execution_count": 8,
   "metadata": {},
   "outputs": [
    {
     "data": {
      "text/plain": [
       "PromptTemplate(input_variables=['world_cup_year'], template='\\n    You are an expert european footbal commentator.\\n    Explain who won the  world cup in {world_cup_year}. and why they were successful.\\n')"
      ]
     },
     "execution_count": 8,
     "metadata": {},
     "output_type": "execute_result"
    }
   ],
   "source": [
    "from langchain import PromptTemplate\n",
    "\n",
    "template = \"\"\"\n",
    "    You are an expert european footbal commentator.\n",
    "    Explain who won the  world cup in {world_cup_year}. and why they were successful.\n",
    "\"\"\"\n",
    "\n",
    "prompt = PromptTemplate(\n",
    "    input_variables = [\"world_cup_year\"],\n",
    "    template = template,\n",
    ")\n",
    "\n",
    "prompt"
   ]
  },
  {
   "cell_type": "code",
   "execution_count": 9,
   "metadata": {},
   "outputs": [
    {
     "name": "stderr",
     "output_type": "stream",
     "text": [
      "c:\\Users\\Hori\\Desktop\\Evozon\\python\\llm\\myenv\\Lib\\site-packages\\langchain_core\\_api\\deprecation.py:139: LangChainDeprecationWarning: The method `BaseLLM.__call__` was deprecated in langchain-core 0.1.7 and will be removed in 0.3.0. Use invoke instead.\n",
      "  warn_deprecated(\n"
     ]
    },
    {
     "data": {
      "text/plain": [
       "\"\\nI'd be happy to help you with that!\\n\\nThe 2002 FIFA World Cup was won by the Brazilian national football team. This was their fifth World Cup title, making them the most successful team in the history of the tournament.\\n\\nBrazil's success in 2002 can be attributed to several factors. First and foremost was their exceptional attacking play, which was spearheaded by superstars Ronaldo and Rivaldo. Ronaldo, who had missed the 1998 World Cup due to health issues, was in top form and scored eight goals in the tournament, including two in the final against Germany. Rivaldo also chipped in with five goals.\\n\\nBrazil's midfield was another strength, with the likes of Kaká, Ronaldinho, and Edmílson providing the creativity and energy that drove the team forward. The defense, led by captain Cafu and center back Lucio, was solid and rarely gave away cheap goals.\\n\\nBrazil's tactical flexibility was also a key factor in their success. Manager Luiz Felipe Scolari employed a 3-5-2 formation in the knockout stages, which allowed Brazil to play with an extra midfielder and control the tempo of the game. This tactical switch proved crucial in the semifinal against Turkey, where Brazil won 1-0 with a late goal from Ronaldo.\\n\\nFinally, Brazil's mental strength and experience shone through in the latter stages of the tournament. They had to come from behind to beat Turkey and South Korea in the knockout stages, and they showed great resilience and composure in the final against Germany, who had beaten them in the group stage. Brazil's victory in the final was a testament to their character and their ability to rise to the occasion when it mattered most.\""
      ]
     },
     "execution_count": 9,
     "metadata": {},
     "output_type": "execute_result"
    }
   ],
   "source": [
    "llm(prompt.format(world_cup_year=\"2002\"))"
   ]
  },
  {
   "cell_type": "markdown",
   "metadata": {},
   "source": [
    "#### Chains\n",
    "\n",
    "Takes a language model and a prompt template and combines them to an interface that takes an input from the user and outputs an answer from the llm - sort of like a composite function where the inner function is the prompt template and the outer function is the language model\n",
    "\n",
    "We can also build composite chains where one chain outputs and answer and than we have a second chain that takes the output of the first chain as an input"
   ]
  },
  {
   "cell_type": "code",
   "execution_count": 10,
   "metadata": {},
   "outputs": [
    {
     "name": "stdout",
     "output_type": "stream",
     "text": [
      "\n",
      "I'd be happy to help you with that!\n",
      "\n",
      "The 2002 FIFA World Cup was won by the Brazilian national football team. This was their fifth World Cup title, making them the most successful team in the history of the tournament.\n",
      "\n",
      "Brazil's success in 2002 can be attributed to several factors. First and foremost was their exceptional attacking play, which was spearheaded by superstars Ronaldo and Rivaldo. Ronaldo, who had missed the 1998 World Cup due to health issues, was in top form and scored eight goals in the tournament, including two in the final against Germany. Rivaldo also chipped in with five goals.\n",
      "\n",
      "Brazil's midfield was another strength, with the likes of Kaká, Ronaldinho, and Edmílson providing the creativity and energy that drove the team forward. The defense, led by captain Cafu and center back Lucio, was solid and rarely gave away cheap goals.\n",
      "\n",
      "Brazil's tactical flexibility was also a key factor in their success. Manager Luiz Felipe Scolari employed a 3-5-2 formation in the knockout stages, which allowed Brazil to play with an extra midfielder and control the tempo of the game. This tactical switch proved crucial in the semifinal against Turkey, where Brazil won 1-0 with a late goal from Ronaldo.\n",
      "\n",
      "Finally, Brazil's mental strength and experience shone through in the latter stages of the tournament. They had to come from behind to beat Turkey and South Korea in the knockout stages, and they showed great resilience and composure in the final against Germany, who had beaten them in the group stage. Brazil's victory in the final was a testament to their character and their ability to rise to the occasion when it mattered most.\n"
     ]
    },
    {
     "name": "stderr",
     "output_type": "stream",
     "text": [
      "c:\\Users\\Hori\\Desktop\\Evozon\\python\\llm\\myenv\\Lib\\site-packages\\langchain_core\\_api\\deprecation.py:139: LangChainDeprecationWarning: The class `LLMChain` was deprecated in LangChain 0.1.17 and will be removed in 1.0. Use RunnableSequence, e.g., `prompt | llm` instead.\n",
      "  warn_deprecated(\n",
      "c:\\Users\\Hori\\Desktop\\Evozon\\python\\llm\\myenv\\Lib\\site-packages\\langchain_core\\_api\\deprecation.py:139: LangChainDeprecationWarning: The method `Chain.run` was deprecated in langchain 0.1.0 and will be removed in 0.3.0. Use invoke instead.\n",
      "  warn_deprecated(\n"
     ]
    }
   ],
   "source": [
    "from langchain.chains import LLMChain\n",
    "\n",
    "chain = LLMChain(llm=llm, prompt=prompt)\n",
    "\n",
    "#Run the chain only specifying the input variable\n",
    "print(chain.run(\"2002\"))"
   ]
  },
  {
   "cell_type": "code",
   "execution_count": 11,
   "metadata": {},
   "outputs": [],
   "source": [
    "second_prompt = PromptTemplate(\n",
    "    input_variables = [\"year\"],\n",
    "    template = \"Who was the best player of that world cup in {year} of that team that won the world cup\",\n",
    ")\n",
    "\n",
    "chain_two = LLMChain(llm=llm, prompt=second_prompt)"
   ]
  },
  {
   "cell_type": "code",
   "execution_count": 12,
   "metadata": {},
   "outputs": [],
   "source": [
    "third_prompt = PromptTemplate(\n",
    "    input_variables = [\"year\"],\n",
    "    template = \"What was the average posession of the team who won the world cup in {year}\",\n",
    ")\n",
    "\n",
    "chain_three = LLMChain(llm=llm, prompt=third_prompt)"
   ]
  },
  {
   "cell_type": "code",
   "execution_count": 13,
   "metadata": {},
   "outputs": [
    {
     "name": "stdout",
     "output_type": "stream",
     "text": [
      "\n",
      "\n",
      "\u001b[1m> Entering new SimpleSequentialChain chain...\u001b[0m\n",
      "\u001b[36;1m\u001b[1;3m\n",
      "I'd be happy to help you with that!\n",
      "\n",
      "The 2010 FIFA World Cup was won by Spain. This was a historic achievement for the Spanish national team, as they became the first European team to win the World Cup on South American soil.\n",
      "\n",
      "Spain's success in the tournament can be attributed to several factors. First and foremost was their exceptional team play and passing ability. Spain's midfield, in particular, was a force to be reckoned with, with players like Xavi Hernandez, Andres Iniesta, and Sergio Busquets controlling the tempo of the game and creating scoring opportunities.\n",
      "\n",
      "Another key factor was Spain's defensive solidity. They conceded just three goals in seven games, thanks in large part to the excellent performances of goalkeeper Iker Casillas and central defenders Carlos Puyol and Gerard Pique.\n",
      "\n",
      "Spain also had a strong attacking threat, with players like David Villa and Fernando Torres capable of scoring goals. Villa, in particular, had a standout tournament, scoring five goals and being named the Golden Boot winner as the top scorer of the tournament.\n",
      "\n",
      "Finally, Spain's experience and mental toughness were crucial in their success. They had a core group of players who had played together for years, both at the club and international level, which helped them gel as a team and stay focused throughout the tournament. They also showed great resilience in coming back from a goal down in the final against the Netherlands to win 1-0 in extra time.\n",
      "\n",
      "Overall, Spain's combination of exceptional team play, defensive solidity, attacking threat, and mental toughness made them a deserving winner of the 2010 FIFA World Cup.\u001b[0m\n",
      "\u001b[33;1m\u001b[1;3m in 2010, I would say that Xavi Hernandez was the best player. He was the heart of Spain's midfield and controlled the tempo of the game with his exceptional passing ability. He also scored the opening goal in the final against the Netherlands. Xavi's performances throughout the tournament were consistently excellent, and he was a key reason why Spain were able to win the World Cup.\u001b[0m\n",
      "\u001b[38;5;200m\u001b[1;3m\n",
      "\n",
      "However, to answer your question, the average possession for Spain during the 2010 World Cup was 68.3%. This was the highest possession percentage in the tournament and was a testament to Spain's dominance of the ball and their ability to keep possession for long periods of time. This allowed them to control the game and wear down their opponents, making it difficult for them to mount effective attacks.\u001b[0m\n",
      "\n",
      "\u001b[1m> Finished chain.\u001b[0m\n",
      "\n",
      "\n",
      "However, to answer your question, the average possession for Spain during the 2010 World Cup was 68.3%. This was the highest possession percentage in the tournament and was a testament to Spain's dominance of the ball and their ability to keep possession for long periods of time. This allowed them to control the game and wear down their opponents, making it difficult for them to mount effective attacks.\n"
     ]
    }
   ],
   "source": [
    "from langchain.chains import SimpleSequentialChain\n",
    "\n",
    "overall_chain = SimpleSequentialChain(chains=[chain, chain_two, chain_three], verbose=True)\n",
    "\n",
    "# Run the chain specifying only the input variable of the first chain\n",
    "explanation = overall_chain.run(\"2010\")\n",
    "print(explanation)"
   ]
  },
  {
   "cell_type": "code",
   "execution_count": 14,
   "metadata": {},
   "outputs": [
    {
     "name": "stdout",
     "output_type": "stream",
     "text": [
      "\n",
      "\n",
      "However, to answer your question, the average possession for Spain during the 2010 World Cup was 68.3%. This was the highest possession percentage in the tournament and was a testament to Spain's dominance of the ball and their ability to keep possession for long periods of time. This allowed them to control the game and wear down their opponents, making it difficult for them to mount effective attacks.\n"
     ]
    }
   ],
   "source": [
    "print(explanation)"
   ]
  },
  {
   "cell_type": "code",
   "execution_count": 15,
   "metadata": {},
   "outputs": [
    {
     "name": "stdout",
     "output_type": "stream",
     "text": [
      "[\"\\nI'd be happy to help you with that!\\n\\nThe 2010 FIFA World Cup was won by Spain. This was a historic achievement for the Spanish national team, as they became the first European team to win the World Cup on South American soil.\\n\\nSpain's success in the tournament can be attributed to several factors. First and foremost was their exceptional team play and passing ability. Spain's midfield, in particular, was a force to be reckoned with, with players like Xavi Hernandez, Andres Iniesta, and Sergio Busquets controlling the tempo of the game and creating scoring opportunities.\\n\\nAnother key factor was Spain's defensive solidity. They conceded just three goals in seven games, thanks in large part to the excellent performances of goalkeeper Iker Casillas and central defenders Carlos Puyol and Gerard Pique.\\n\\nSpain also had a strong attacking threat, with players like David Villa and Fernando Torres capable of scoring goals. Villa, in particular, had a standout tournament, scoring five goals and being named the Golden Boot winner as the top scorer of the tournament.\\n\\nFinally, Spain's experience and mental toughness were crucial in their success. They had a core group of players who had played together for years, both at the club and international level, which helped them gel as a team and stay focused throughout the tournament. They also showed great resilience in coming back from a goal down in the final against the Netherlands to win 1-0 in extra time.\\n\\nOverall, Spain's combination of exceptional team play, defensive solidity, attacking threat, and mental toughness made them a deserving winner of the 2010 FIFA World Cup.\", \" in 2010, I would say that Xavi Hernandez was the best player. He was the heart of Spain's midfield and controlled the tempo of the game with his exceptional passing ability. He also scored the opening goal in the final against the Netherlands. Xavi's performances throughout the tournament were consistently excellent, and he was a key reason why Spain were able to win the World Cup.\", \"\\n\\nHowever, to answer your question, the average possession for Spain during the 2010 World Cup was 68.3%. This was the highest possession percentage in the tournament and was a testament to Spain's dominance of the ball and their ability to keep possession for long periods of time. This allowed them to control the game and wear down their opponents, making it difficult for them to mount effective attacks.\"]\n",
      "\n",
      "\n",
      "However, to answer your question, the average possession for Spain during the 2010 World Cup was 68.3%. This was the highest possession percentage in the tournament and was a testament to Spain's dominance of the ball and their ability to keep possession for long periods of time. This allowed them to control the game and wear down their opponents, making it difficult for them to mount effective attacks.\n"
     ]
    }
   ],
   "source": [
    "# Custom function to run each chain and collect their outputs\n",
    "def run_chains_and_collect_outputs(overall_chain, input_data):\n",
    "    outputs = []\n",
    "    current_input = input_data\n",
    "    for chain in overall_chain.chains:\n",
    "        current_output = chain.run(current_input)\n",
    "        outputs.append(current_output)\n",
    "        current_input = current_output\n",
    "    return outputs\n",
    "\n",
    "# Run the custom function and collect outputs\n",
    "all_outputs = run_chains_and_collect_outputs(overall_chain, \"2010\")\n",
    "\n",
    "# The last output will be in the last position of the list\n",
    "final_output = all_outputs[-1]\n",
    "\n",
    "print(all_outputs)  # To see all outputs\n",
    "print(final_output)  # To see the final output"
   ]
  },
  {
   "cell_type": "markdown",
   "metadata": {},
   "source": [
    "Merge the responses"
   ]
  },
  {
   "cell_type": "code",
   "execution_count": 16,
   "metadata": {},
   "outputs": [],
   "source": [
    "result = ', '.join(all_outputs)"
   ]
  },
  {
   "cell_type": "markdown",
   "metadata": {},
   "source": [
    "#### Embeddings and vector stores"
   ]
  },
  {
   "cell_type": "markdown",
   "metadata": {},
   "source": [
    "Split the text into chunks"
   ]
  },
  {
   "cell_type": "code",
   "execution_count": 17,
   "metadata": {},
   "outputs": [],
   "source": [
    "from langchain.text_splitter import RecursiveCharacterTextSplitter\n",
    "\n",
    "def get_recursive_text_splitter(chunk_size, chunk_overlap):\n",
    "    return RecursiveCharacterTextSplitter(\n",
    "        chunk_size = chunk_size,\n",
    "        chunk_overlap = chunk_overlap,\n",
    "    )\n",
    "    \n",
    "def split_documents(docs, text_splitter):\n",
    "    return  text_splitter.create_documents([docs])\n",
    "\n",
    "\n",
    "text_splitter = get_recursive_text_splitter(chunk_size=100, chunk_overlap=0)\n",
    "splitted_docs = split_documents(result, text_splitter)"
   ]
  },
  {
   "cell_type": "code",
   "execution_count": 18,
   "metadata": {},
   "outputs": [
    {
     "name": "stdout",
     "output_type": "stream",
     "text": [
      "I'd be happy to help you with that!\n",
      "The 2010 FIFA World Cup was won by Spain. This was a historic achievement for the Spanish national\n",
      "team, as they became the first European team to win the World Cup on South American soil.\n",
      "Spain's success in the tournament can be attributed to several factors. First and foremost was\n",
      "their exceptional team play and passing ability. Spain's midfield, in particular, was a force to be\n",
      "reckoned with, with players like Xavi Hernandez, Andres Iniesta, and Sergio Busquets controlling\n",
      "the tempo of the game and creating scoring opportunities.\n",
      "Another key factor was Spain's defensive solidity. They conceded just three goals in seven games,\n",
      "thanks in large part to the excellent performances of goalkeeper Iker Casillas and central\n",
      "defenders Carlos Puyol and Gerard Pique.\n",
      "Spain also had a strong attacking threat, with players like David Villa and Fernando Torres capable\n",
      "of scoring goals. Villa, in particular, had a standout tournament, scoring five goals and being\n",
      "named the Golden Boot winner as the top scorer of the tournament.\n",
      "Finally, Spain's experience and mental toughness were crucial in their success. They had a core\n",
      "group of players who had played together for years, both at the club and international level, which\n",
      "helped them gel as a team and stay focused throughout the tournament. They also showed great\n",
      "resilience in coming back from a goal down in the final against the Netherlands to win 1-0 in extra\n",
      "time.\n",
      "Overall, Spain's combination of exceptional team play, defensive solidity, attacking threat, and\n",
      "mental toughness made them a deserving winner of the 2010 FIFA World Cup.,  in 2010, I would say\n",
      "that Xavi Hernandez was the best player. He was the heart of Spain's midfield and controlled the\n",
      "tempo of the game with his exceptional passing ability. He also scored the opening goal in the\n",
      "final against the Netherlands. Xavi's performances throughout the tournament were consistently\n",
      "excellent, and he was a key reason why Spain were able to win the World Cup.,\n",
      "However, to answer your question, the average possession for Spain during the 2010 World Cup was\n",
      "68.3%. This was the highest possession percentage in the tournament and was a testament to Spain's\n",
      "dominance of the ball and their ability to keep possession for long periods of time. This allowed\n",
      "them to control the game and wear down their opponents, making it difficult for them to mount\n",
      "effective attacks.\n"
     ]
    }
   ],
   "source": [
    "for text in splitted_docs:\n",
    "    print(text.page_content)"
   ]
  },
  {
   "cell_type": "markdown",
   "metadata": {},
   "source": [
    "### Create a datasest with the texts \n",
    "\n",
    "I will create a pandas dataset where I will insert the text and asign a unique id for each separate text"
   ]
  },
  {
   "cell_type": "code",
   "execution_count": 19,
   "metadata": {},
   "outputs": [],
   "source": [
    "import pandas as pd\n",
    "import uuid\n",
    "\n",
    "# Function to generate unique IDs\n",
    "def generate_unique_id():\n",
    "    return str(uuid.uuid4())\n",
    "\n",
    "\n",
    "# Extract the page_content from each Document object into a separate list\n",
    "page_contents = [doc.page_content for doc in splitted_docs]\n",
    "\n",
    "df = pd.DataFrame(page_contents, columns=[\"chunk\"])\n",
    "\n",
    "# Generate a unique ID for each row and add it as a new column in the DataFrame\n",
    "df['unique_id'] = df.apply(lambda row: generate_unique_id(), axis=1)\n"
   ]
  },
  {
   "cell_type": "markdown",
   "metadata": {},
   "source": [
    "Turn the text into Embeddings, first i need to import an embeddings model"
   ]
  },
  {
   "cell_type": "code",
   "execution_count": 20,
   "metadata": {},
   "outputs": [],
   "source": [
    "from langchain_huggingface import HuggingFaceEmbeddings\n",
    "\n",
    "small_embeddings_model = 'sentence-transformers/all-MiniLM-L6-v2'\n",
    "normal_embeddings_model = 'sentence-transformers/all-mpnet-base-v2'\n",
    "\n",
    "model_kwargs = {'device': 'cpu'}\n",
    "encode_kwargs = {'normalize_embeddings': False}\n",
    "\n",
    "embeddings = HuggingFaceEmbeddings(\n",
    "    model_name=normal_embeddings_model,\n",
    "    model_kwargs=model_kwargs,\n",
    "    encode_kwargs=encode_kwargs,\n",
    ")"
   ]
  },
  {
   "cell_type": "markdown",
   "metadata": {},
   "source": [
    "Transform the chuntks in the dataset into embeddings"
   ]
  },
  {
   "cell_type": "code",
   "execution_count": 21,
   "metadata": {},
   "outputs": [],
   "source": [
    "df['embedding'] = df['chunk'].apply(lambda text: embeddings.embed_query(text))"
   ]
  },
  {
   "cell_type": "code",
   "execution_count": 22,
   "metadata": {},
   "outputs": [
    {
     "data": {
      "text/html": [
       "<div>\n",
       "<style scoped>\n",
       "    .dataframe tbody tr th:only-of-type {\n",
       "        vertical-align: middle;\n",
       "    }\n",
       "\n",
       "    .dataframe tbody tr th {\n",
       "        vertical-align: top;\n",
       "    }\n",
       "\n",
       "    .dataframe thead th {\n",
       "        text-align: right;\n",
       "    }\n",
       "</style>\n",
       "<table border=\"1\" class=\"dataframe\">\n",
       "  <thead>\n",
       "    <tr style=\"text-align: right;\">\n",
       "      <th></th>\n",
       "      <th>chunk</th>\n",
       "      <th>unique_id</th>\n",
       "      <th>embedding</th>\n",
       "    </tr>\n",
       "  </thead>\n",
       "  <tbody>\n",
       "    <tr>\n",
       "      <th>0</th>\n",
       "      <td>I'd be happy to help you with that!</td>\n",
       "      <td>c882dbfe-5c69-41e5-87a3-adab202a41d1</td>\n",
       "      <td>[0.0031824701000005007, 0.028275931254029274, ...</td>\n",
       "    </tr>\n",
       "    <tr>\n",
       "      <th>1</th>\n",
       "      <td>The 2010 FIFA World Cup was won by Spain. This...</td>\n",
       "      <td>51d6ed3f-16f3-423b-af6e-c5a719e11647</td>\n",
       "      <td>[0.011273376643657684, 0.024946296587586403, -...</td>\n",
       "    </tr>\n",
       "    <tr>\n",
       "      <th>2</th>\n",
       "      <td>team, as they became the first European team t...</td>\n",
       "      <td>d72b1952-a41a-47d7-a6b5-c48785a9da9b</td>\n",
       "      <td>[-0.048796359449625015, -0.040353938937187195,...</td>\n",
       "    </tr>\n",
       "    <tr>\n",
       "      <th>3</th>\n",
       "      <td>Spain's success in the tournament can be attri...</td>\n",
       "      <td>459a2818-776a-4c6f-ac2d-8834f751452a</td>\n",
       "      <td>[0.025057660415768623, -0.004411689005792141, ...</td>\n",
       "    </tr>\n",
       "    <tr>\n",
       "      <th>4</th>\n",
       "      <td>their exceptional team play and passing abilit...</td>\n",
       "      <td>9a6c47ae-841a-48a2-a18e-baf7dfd223e5</td>\n",
       "      <td>[-0.006107549648731947, -0.03988241031765938, ...</td>\n",
       "    </tr>\n",
       "  </tbody>\n",
       "</table>\n",
       "</div>"
      ],
      "text/plain": [
       "                                               chunk  \\\n",
       "0                I'd be happy to help you with that!   \n",
       "1  The 2010 FIFA World Cup was won by Spain. This...   \n",
       "2  team, as they became the first European team t...   \n",
       "3  Spain's success in the tournament can be attri...   \n",
       "4  their exceptional team play and passing abilit...   \n",
       "\n",
       "                              unique_id  \\\n",
       "0  c882dbfe-5c69-41e5-87a3-adab202a41d1   \n",
       "1  51d6ed3f-16f3-423b-af6e-c5a719e11647   \n",
       "2  d72b1952-a41a-47d7-a6b5-c48785a9da9b   \n",
       "3  459a2818-776a-4c6f-ac2d-8834f751452a   \n",
       "4  9a6c47ae-841a-48a2-a18e-baf7dfd223e5   \n",
       "\n",
       "                                           embedding  \n",
       "0  [0.0031824701000005007, 0.028275931254029274, ...  \n",
       "1  [0.011273376643657684, 0.024946296587586403, -...  \n",
       "2  [-0.048796359449625015, -0.040353938937187195,...  \n",
       "3  [0.025057660415768623, -0.004411689005792141, ...  \n",
       "4  [-0.006107549648731947, -0.03988241031765938, ...  "
      ]
     },
     "execution_count": 22,
     "metadata": {},
     "output_type": "execute_result"
    }
   ],
   "source": [
    "df.head()"
   ]
  },
  {
   "cell_type": "markdown",
   "metadata": {},
   "source": [
    "Embedd a single document, this is just for demo purposes"
   ]
  },
  {
   "cell_type": "code",
   "execution_count": 23,
   "metadata": {},
   "outputs": [
    {
     "name": "stdout",
     "output_type": "stream",
     "text": [
      "[0.0031824701000005007, 0.028275931254029274, -0.054217997938394547, 0.006076144985854626, 0.03014645352959633, 0.055233631283044815, 0.012581123039126396, 0.01224525272846222, 0.009976448491215706, -0.004560807254165411, 0.08568700402975082, -0.029782911762595177, -0.025935351848602295, 0.03822476044297218, -0.01854219287633896, -0.06121218577027321, -0.07007652521133423, -0.003600690746679902, -0.03144088014960289, -0.04982069134712219, 0.0166781023144722, 0.032563429325819016, -0.01782228983938694, -0.0788431391119957, -0.03217117488384247, -0.023768465965986252, 0.0025718745309859514, 0.004667067900300026, 0.010272243060171604, -0.01180975791066885, 0.04840785637497902, 0.05432409793138504, -0.022282814607024193, -0.013799906708300114, 2.1383102648542263e-06, -0.060006286948919296, -0.056216176599264145, -0.04359258711338043, 0.025691529735922813, 0.11038665473461151, 0.05030360072851181, -0.02483357861638069, -0.05499156564474106, 0.006281768437474966, -0.010298637673258781, -0.010482232086360455, 0.058352164924144745, 0.019917918369174004, 0.05742478743195534, 0.05415371432900429, 0.015419861301779747, -0.004549067001789808, 0.020105140283703804, 0.013667743653059006, 0.0720321387052536, 0.02268226630985737, 0.01927928999066353, -0.0016136495396494865, 0.017038006335496902, -0.07395357638597488, -0.02639811672270298, 0.028206147253513336, -0.004038823768496513, 0.014987828209996223, 0.04870271682739258, -0.03359944000840187, -0.010530534200370312, -0.00966657791286707, -0.001107020303606987, -0.014518709853291512, 0.034553561359643936, 0.035093754529953, -0.0017105541191995144, -0.036996372044086456, -0.016666674986481667, 0.051963284611701965, -0.03864576667547226, -0.01614433526992798, -0.0021981620229780674, 0.025384508073329926, -0.0026339415926486254, -0.05543649569153786, -0.02749340794980526, -0.006466466002166271, -0.026905113831162453, -0.06039636209607124, -0.009818462654948235, -0.008113807998597622, 0.0030735700856894255, -0.031146010383963585, -0.015090182423591614, 0.03542298078536987, 0.04029957205057144, -0.03993883728981018, 0.0376274511218071, -0.017961278557777405, 0.022114282473921776, 2.7511077860253863e-05, -0.035841912031173706, 0.04603508114814758, -0.006792379077523947, 0.04823828488588333, 0.01587682217359543, -0.03098592720925808, 0.00047564043779857457, -0.03573973849415779, 0.012536361813545227, -0.021246811375021935, -0.011535131372511387, 0.02612053044140339, -0.026079213246703148, -0.015181620605289936, -0.0492953360080719, 0.03602749854326248, 0.03654160723090172, 0.015278007835149765, -0.06240444257855415, -0.04909175634384155, -0.05092981457710266, -0.02662459947168827, 0.04643235355615616, 0.027206167578697205, 0.0741068571805954, -0.022898446768522263, -0.02634604647755623, 0.004280795343220234, -0.009721232578158379, -0.023586565628647804, -0.0839090496301651, -0.03956165164709091, 0.07648731768131256, 0.029325159266591072, -0.025966081768274307, -0.03462200239300728, 0.019402598962187767, 0.03781786933541298, -0.021013695746660233, -0.01193955633789301, -0.013404336757957935, 0.05197278782725334, 0.04461294040083885, 0.030592717230319977, -0.03128271922469139, 0.006728898733854294, 0.0035155881196260452, -0.08168940246105194, 0.008078493177890778, 0.029575401917099953, -0.02104179747402668, -0.04562850669026375, 0.018634706735610962, 0.057166922837495804, -0.07961088418960571, 0.007188580930233002, 0.021758001297712326, -0.03178028389811516, 0.003837424563243985, 0.03843238577246666, -0.03786572068929672, 0.021274365484714508, 0.016657669097185135, 0.007557982578873634, 0.03756342828273773, -0.04914440959692001, 0.0047338479198515415, -0.025565244257450104, -0.06108952313661575, -0.05408605560660362, -0.016093028709292412, 0.016477856785058975, -0.004843173548579216, 0.014625601470470428, -0.03277996554970741, -0.021635018289089203, 0.039451271295547485, -0.0170731283724308, 0.0619150847196579, 0.0029184678569436073, -0.010616970248520374, 0.0009513777913525701, -0.07374387234449387, -0.04647573456168175, -0.04555505886673927, 0.0021330220624804497, 0.03908379748463631, 0.018677961081266403, -0.030587583780288696, 0.06849205493927002, -0.04411885887384415, -0.0011735389707610011, -0.03595598414540291, 0.013050897978246212, -0.011035678908228874, 0.08618760108947754, -0.033484891057014465, 0.0001956834166776389, 0.028053443878889084, -0.04834074527025223, -0.014355270192027092, -0.07590687274932861, 0.06903473287820816, -0.0016780869336798787, 0.027131058275699615, 0.048041075468063354, 0.014500667341053486, 0.0038099915254861116, -0.010345449671149254, 0.05686449632048607, 0.02470095083117485, -0.004042681772261858, 0.006794188637286425, -0.025982191786170006, -0.009461360983550549, -0.04435235634446144, 0.01650218665599823, 0.04497029632329941, -0.0032179264817386866, -0.042837876826524734, 0.038465339690446854, 0.00411536218598485, 0.044890034943819046, 0.008110537193715572, 0.01277130376547575, -0.0033380447421222925, 0.04785643517971039, -0.010072148405015469, 0.07167071849107742, -0.0013558598002418876, 0.04951143264770508, 0.04031052440404892, -0.010327707976102829, 0.03958585485816002, -0.010825509205460548, -0.003842621576040983, -0.023294012993574142, 0.013369977474212646, 0.04923470690846443, 0.029996413737535477, 0.03819023072719574, 0.006762580014765263, -0.03333015739917755, -0.010049475356936455, -0.010846465826034546, 0.07566853612661362, 0.02121729403734207, -0.004411079455167055, -0.026540381833910942, -0.018840089440345764, 0.044652048498392105, 0.03370519354939461, -0.024643439799547195, -0.042170651257038116, 0.04531519487500191, 0.060899071395397186, 0.024418050423264503, -0.0526038333773613, -0.0756264328956604, -0.04771830141544342, -0.0593530535697937, 0.042845696210861206, -0.08505643904209137, -0.04340880736708641, 0.032437752932310104, 0.006529593840241432, -0.04633282124996185, 0.0033734638709574938, 0.04869925603270531, -0.011081380769610405, -0.028663774952292442, 0.014788548462092876, -0.027386769652366638, -0.005556113552302122, 0.05387774854898453, -0.02586102858185768, -0.027241753414273262, 0.004576656501740217, 0.032362230122089386, 0.005780116189271212, 0.006239512003958225, 0.00697623286396265, -0.07025888562202454, -0.006327076815068722, -0.01710793934762478, 0.026119831949472427, 0.0016130560543388128, -0.056614819914102554, -0.034991513937711716, -0.029557811096310616, -0.03609907999634743, -0.024139083921909332, 0.04189791902899742, 0.05728171765804291, 0.013839476741850376, -0.03119341842830181, -0.0450810045003891, -0.016300804913043976, -0.013035448268055916, 0.01935880444943905, -0.008500718511641026, 0.015611281618475914, -0.009736957959830761, -0.04615331441164017, -0.03822484239935875, 0.02449467033147812, -0.019759418442845345, 0.015545407310128212, -0.023880328983068466, -0.03823869302868843, -0.007375831715762615, 0.022976931184530258, 0.024336475878953934, -0.039994142949581146, 0.008711784146726131, -0.020761337131261826, 0.05649658665060997, 0.036657772958278656, 0.012435580603778362, 0.02586696296930313, 0.04973861947655678, 0.0565900057554245, 0.026038575917482376, -0.009608939290046692, 0.03712479770183563, 0.021929049864411354, -0.015853924676775932, -0.03534449636936188, -0.0257857795804739, -0.043686382472515106, 0.009981514886021614, -0.055959831923246384, 0.030383335426449776, -0.02752608433365822, -0.0007216489175334573, -0.011583970859646797, -0.06450916826725006, -0.001976907020434737, 0.019737346097826958, -0.03486159071326256, -0.06914419680833817, -0.0024605554062873125, 0.022476283833384514, -0.029216522350907326, -0.02179703116416931, 0.035022199153900146, -0.022027648985385895, -0.0037200727965682745, 0.006535366643220186, 0.030754059553146362, -0.008768395520746708, 0.014060516841709614, -0.032736096531152725, 0.04660463333129883, 0.05824767425656319, -0.009568851441144943, 0.014349890872836113, 0.01879316382110119, -0.035869039595127106, 0.08531966805458069, -0.053829655051231384, -0.03791883587837219, -0.030767366290092468, 0.0009453550446778536, -0.03879101946949959, 0.012905571609735489, -0.007575697265565395, 0.04719163104891777, 0.015059039928019047, -0.06351006776094437, 0.07983607053756714, -0.04414303973317146, -0.07798043638467789, 0.025062832981348038, 0.01594667322933674, 0.02448963187634945, 0.014271829277276993, -0.074184350669384, 0.012279682792723179, 0.006446985062211752, -0.05747441202402115, -0.03503338247537613, 0.029894284904003143, -0.04809470474720001, 0.0006560999900102615, -0.012038133107125759, -0.012795324437320232, -0.02522634156048298, 0.030275601893663406, 0.0013290984788909554, -0.021115144714713097, -0.014151807874441147, 0.0069094873033463955, 0.018730325624346733, -0.06809085607528687, 0.029438568279147148, -0.008007988333702087, -0.05617514252662659, -0.10205390304327011, -0.05049487203359604, 0.009417664259672165, -0.031160935759544373, -0.00804675742983818, 0.004985904786735773, -0.040541037917137146, 0.008096414618194103, -0.0028797562699764967, 0.02236960455775261, 0.011978354305028915, 0.0683910995721817, 0.008017796091735363, -0.030925722792744637, -0.036403439939022064, 0.07916714251041412, -0.016070665791630745, 0.020138094201683998, 0.005995177663862705, -0.015674015507102013, 0.004924017935991287, 0.0020355498418211937, 0.01928878016769886, 0.023716529831290245, -0.0012012438382953405, 0.036576494574546814, 0.03173920884728432, 0.04871376231312752, 0.05436957627534866, -0.026957020163536072, 0.030687235295772552, -0.0025258860550820827, -0.022599224001169205, -0.04449911788105965, 0.020964467898011208, 0.02685963548719883, -0.0025866383221000433, 0.050249069929122925, -0.0006131573463790119, 0.06452560424804688, 0.010382785461843014, 0.0022874639835208654, 0.019468538463115692, -0.022760821506381035, 0.048564814031124115, 0.00899488478899002, 0.09625253826379776, 0.06213301047682762, 0.0011518847895786166, 0.06190425157546997, 0.014949089847505093, -0.011296246200799942, -0.021983645856380463, -0.03807167708873749, 0.01134485099464655, -0.02075192518532276, -0.06253201514482498, -0.0368095301091671, 0.019493630155920982, 0.04628009349107742, 0.0496261827647686, -0.017672235146164894, -0.015238547697663307, -0.009350268170237541, -0.01168417651206255, 0.02562832087278366, -0.02555043250322342, 0.024580400437116623, -0.007450318429619074, -0.06192188337445259, 0.0022053986322134733, -0.06555746495723724, 0.031201068311929703, -0.07639793306589127, 0.04596078023314476, 0.01943880319595337, 0.008108304813504219, 0.016220493242144585, 0.017296740785241127, -0.00885397382080555, -0.02871069870889187, -0.028112424537539482, -0.028132112696766853, 0.03636558726429939, 0.02268392965197563, -0.01710512861609459, -0.012213964946568012, -0.0420079305768013, -0.006414094008505344, 0.06162602826952934, -0.039580512791872025, -0.03214656934142113, -0.03321647644042969, 0.05005486682057381, 0.03900240361690521, -0.048797231167554855, -0.013589248061180115, -0.04066723585128784, -0.0014599135611206293, -0.03830748423933983, -0.050373226404190063, -0.04404376074671745, -0.03968936949968338, 0.014088626950979233, 0.012540635652840137, -0.035036250948905945, -0.007498622871935368, 0.032655004411935806, -0.026274919509887695, 0.029911622405052185, 0.052166156470775604, -0.035593293607234955, -0.03532490134239197, 0.010770183987915516, -0.047518547624349594, -0.02126106433570385, -0.002711971988901496, -0.13701681792736053, 0.04443574324250221, 0.05285438150167465, -0.026003830134868622, -0.033776044845581055, -0.09398055821657181, -0.002543422393500805, 0.014882925897836685, 0.03461435064673424, -0.006903955712914467, 0.020039567723870277, -0.030449220910668373, 0.028290068730711937, 0.003323898883536458, 0.01097070425748825, -0.021392175927758217, -0.0073094442486763, -0.05918139964342117, 0.04140832647681236, -0.017019350081682205, 0.049103282392024994, 0.020120300352573395, 0.06654652953147888, -0.02485610544681549, 0.012620719149708748, -0.017381712794303894, 0.02235295996069908, 0.06368479877710342, -0.03325445577502251, 0.020419318228960037, 0.0069118039682507515, -0.05158601701259613, 0.00474272295832634, -0.00014877671492286026, -0.02494530938565731, -0.050560690462589264, -0.004204240161925554, -0.018919002264738083, -0.003597196890041232, -0.06269368529319763, 0.0027668001130223274, -0.026697464287281036, -7.556276786441335e-33, -0.02039572410285473, -0.016554255038499832, -0.0020511907059699297, 0.037754274904727936, 0.026868106797337532, -0.0936993807554245, 0.07242266833782196, 0.004053488839417696, 0.04233507812023163, -0.017535904422402382, -0.0014600926078855991, 0.016055215150117874, 0.028845718130469322, 0.010772553272545338, -0.04392148554325104, 0.0817280188202858, 0.05742867663502693, 0.018234018236398697, 0.03211570903658867, -0.046632811427116394, 0.023705635219812393, 0.03587508946657181, 0.08505573868751526, -0.03400392457842827, 0.03325217217206955, 0.005398524925112724, -0.020041001960635185, 0.03576294332742691, 0.020447339862585068, -0.007903707213699818, -0.04474763572216034, -0.01438645925372839, -0.0414675697684288, 0.0752582848072052, 0.017103947699069977, 0.02202700823545456, -0.02139098197221756, 0.04259544610977173, 0.06820545345544815, 0.033316463232040405, 0.09136176109313965, -0.0858982652425766, -0.03509802371263504, -0.03611193969845772, -0.030292239040136337, -0.06985202431678772, 0.031837016344070435, 0.01809505932033062, -0.006486425641924143, 0.036724213510751724, -0.06735685467720032, -0.02817302942276001, -0.08575126528739929, -0.04864207282662392, 0.03759053722023964, -0.006867522373795509, -0.011472638696432114, -0.05309896171092987, 0.0226996261626482, 0.012385229580104351, -0.029914816841483116, 0.0015735311899334192, -0.018513254821300507, -0.013339166529476643, -0.019012117758393288, 0.0048693446442484856, -0.0739404484629631, -0.047816742211580276, -0.004016402177512646, -0.0028341959696263075, -0.03883463144302368, 0.05834453925490379, 0.004463912919163704, 0.03221682459115982, -0.0067208330146968365, 0.02322181686758995, 0.025243796408176422, 0.019021356478333473, 0.06692656129598618, -0.014429678209125996, -0.03155814856290817, 0.034286562353372574, 0.06438767164945602, 0.0006629286799579859, -0.007714963052421808, 0.041024792939424515, -0.002118554199114442, -0.023249289020895958, -0.00266978214494884, 0.056250229477882385, -0.020077861845493317, -0.025258250534534454, -0.038281336426734924, -0.008028730750083923, -0.011215215548872948, 0.03206787258386612, 0.05782274901866913, 0.025754675269126892, 0.01436202134937048, -0.0344608835875988, 0.03461282327771187, 0.006127450615167618, -0.045413557440042496, -0.014139406383037567, 0.02842695079743862, 0.0002486752928234637, -0.0671159029006958, -0.03819049149751663, -0.003800520673394203, 0.018521927297115326, 0.02315990813076496, -0.06149638071656227, 0.02496843785047531, 0.02385985665023327, -0.01586967147886753, 0.0438777431845665, -0.019365210086107254, 0.04903360828757286, -0.027003943920135498, -0.018524067476391792, -0.004563492257148027, 0.022747119888663292, 0.02205735631287098, 0.02062929980456829, -0.01725698634982109, -0.018427304923534393, -0.014661970548331738, 0.03351440280675888, 0.005491973366588354, 0.016653703525662422, 0.013846785761415958, 0.05432726815342903, 3.035507631921064e-07, -0.0034951362758874893, -0.004704014398157597, 0.051048967987298965, 0.02985239401459694, -0.04660734161734581, -0.0466412678360939, -0.007475085090845823, 0.016181835904717445, 0.02265523374080658, 0.0015850123018026352, 0.03489195555448532, -0.0508405938744545, 0.04775501787662506, -0.016294419765472412, 0.015937332063913345, 0.013192745856940746, 0.020853456109762192, -0.004584573209285736, -0.017042772844433784, 0.0669686570763588, -0.0010375392157584429, 0.017171528190374374, 0.030927365645766258, -0.022260406985878944, 0.044785141944885254, 0.060072798281908035, 0.019637027755379677, -0.03448726236820221, -0.024157263338565826, -0.004787458572536707, -0.035457197576761246, -0.0495055690407753, 0.007913867942988873, 0.05936595797538757, -0.01081374753266573, -0.026089929044246674, -0.0032177732791751623, 0.007137811277061701, 0.02729809284210205, 0.028876371681690216, 0.011003582738339901, 0.07030746340751648, -0.015927767381072044, 0.017020145431160927, -0.0072613609954714775, -0.039314765483140945, 0.007559100165963173, 0.049848414957523346, -0.007412419654428959, -0.011031605303287506, 0.059235572814941406, -0.05662435293197632, 0.05312609300017357, 0.011578470468521118, -0.015101928263902664, -0.010140989907085896, -0.027361538261175156, -0.0329512283205986, 0.04471573978662491, 0.01420014537870884, -0.045667026191949844, 0.009790478274226189, 0.031219065189361572, 0.051894232630729675, 0.0029220760334283113, -0.04090112820267677, 0.013901285827159882, 1.413758790539311e-34, -0.007524322252720594, -0.007991829887032509, 0.025512155145406723, 0.05914952978491783, 0.02896668203175068, 0.02222021110355854, -0.04421589523553848, 0.01984688639640808, 0.0001343019976047799, 0.03583340719342232, 0.010669217444956303]\n",
      "768\n"
     ]
    }
   ],
   "source": [
    "# Document to be embedded\n",
    "text = splitted_docs[0].page_content\n",
    "\n",
    "# Embed the document\n",
    "query_result = embeddings.embed_query(text)\n",
    "\n",
    "# Print the embedding\n",
    "print(query_result)\n",
    "print(len(query_result))"
   ]
  },
  {
   "cell_type": "markdown",
   "metadata": {},
   "source": [
    "Connect to pinecone and create an index if it does not exist"
   ]
  },
  {
   "cell_type": "code",
   "execution_count": 24,
   "metadata": {},
   "outputs": [],
   "source": [
    "import pinecone\n",
    "from pinecone import Pinecone, ServerlessSpec\n",
    "\n",
    "pc = Pinecone(api_key=pinecone_api_key)\n",
    "\n",
    "index_name = \"test-index\"\n",
    "index_list = pc.list_indexes()\n",
    "embedding_dimensions = len(df['embedding'][0])\n",
    "\n",
    "\n",
    "def check_index_exists(data, index_name):\n",
    "    indexes = data.get('indexes', [])\n",
    "    for index in indexes:\n",
    "        if index.get('name') == index_name:\n",
    "            return True\n",
    "    return False\n",
    "\n",
    "# Check if the index already exists\n",
    "if check_index_exists(index_list, index_name) is False:\n",
    "    pc.create_index(\n",
    "        name=index_name,\n",
    "        dimension=embedding_dimensions, # Replace with your model dimensions\n",
    "        metric=\"euclidean\", # Replace with your model metric\n",
    "        spec=ServerlessSpec(\n",
    "            cloud=\"aws\",\n",
    "            region=\"us-east-1\"\n",
    "        ) \n",
    "    )"
   ]
  },
  {
   "cell_type": "markdown",
   "metadata": {},
   "source": [
    "Grab the index from pinecone"
   ]
  },
  {
   "cell_type": "code",
   "execution_count": 25,
   "metadata": {},
   "outputs": [],
   "source": [
    "index = pinecone.Index(api_key=pinecone_api_key,\n",
    "                       host=pinecone_index_host,\n",
    "                       index_name=index_name\n",
    "                       )"
   ]
  },
  {
   "cell_type": "markdown",
   "metadata": {},
   "source": [
    "Create a list of dictionaries for the data you want to upsert in the Pinecone vector store"
   ]
  },
  {
   "cell_type": "code",
   "execution_count": 26,
   "metadata": {},
   "outputs": [],
   "source": [
    "data_to_upsert = [\n",
    "    {\n",
    "        \"id\": row['unique_id'],\n",
    "        \"values\": row['embedding']\n",
    "    }\n",
    "    for index, row in df.iterrows()\n",
    "]"
   ]
  },
  {
   "cell_type": "markdown",
   "metadata": {},
   "source": [
    "Upload the mebeddings to the vector store"
   ]
  },
  {
   "cell_type": "code",
   "execution_count": 27,
   "metadata": {},
   "outputs": [
    {
     "name": "stdout",
     "output_type": "stream",
     "text": [
      "29 documents successfully upserted to Pinecone index.\n"
     ]
    }
   ],
   "source": [
    "index.upsert(vectors=data_to_upsert)\n",
    "print(f\"{len(data_to_upsert)} documents successfully upserted to Pinecone index.\")"
   ]
  },
  {
   "cell_type": "markdown",
   "metadata": {},
   "source": [
    "### Query the documents we have in the vector store"
   ]
  },
  {
   "cell_type": "markdown",
   "metadata": {},
   "source": [
    "Query the pinecone vector store to find out the most simmilar docs given a question"
   ]
  },
  {
   "cell_type": "markdown",
   "metadata": {},
   "source": [
    "Pause the exectuion to wait for pinecone"
   ]
  },
  {
   "cell_type": "code",
   "execution_count": 36,
   "metadata": {},
   "outputs": [],
   "source": [
    "import time\n",
    "\n",
    "#Stop for a few seconds so it can index the data in pinecone\n",
    "time.sleep(10)"
   ]
  },
  {
   "cell_type": "code",
   "execution_count": 37,
   "metadata": {},
   "outputs": [
    {
     "name": "stdout",
     "output_type": "stream",
     "text": [
      "Top 1 similar documents:\n",
      "1. Document ID: 25d11145-0c0f-48c0-90ac-93dc0218cc26, Similarity Score: 1.31664336\n"
     ]
    }
   ],
   "source": [
    "# Top k answers\n",
    "top_k = 1\n",
    "\n",
    "# Question\n",
    "question = \"What was the average posession?\"\n",
    "# Questin embeddings vector\n",
    "query_vector = embeddings.embed_query(question)\n",
    "\n",
    "results = index.query(\n",
    "    vector=query_vector,\n",
    "    top_k=top_k,\n",
    "    include_values=True\n",
    ")\n",
    "\n",
    "# Iterate over matches and print document IDs and scores\n",
    "print(\"Top {} similar documents:\".format(len(results.matches)))\n",
    "for idx, match in enumerate(results.matches):\n",
    "    doc_id = match['id']\n",
    "    score = match['score']\n",
    "    print(f\"{idx + 1}. Document ID: {doc_id}, Similarity Score: {score}\")\n"
   ]
  },
  {
   "cell_type": "markdown",
   "metadata": {},
   "source": [
    "### Match the resutls with the chunks I have in the dataframe"
   ]
  },
  {
   "cell_type": "markdown",
   "metadata": {},
   "source": [
    "Now I need to associate the answers retunrned by the query with the original texts(chunks) from the dataframe"
   ]
  },
  {
   "cell_type": "code",
   "execution_count": 38,
   "metadata": {},
   "outputs": [],
   "source": [
    "# Define the method to find text by UUID\n",
    "def find_text_by_uuid(df, uuid, text_column='chunk', id_column='unique_id'):\n",
    "    result = df[df[id_column] == uuid]\n",
    "    if not result.empty:\n",
    "        return result.iloc[0][text_column]\n",
    "    else:\n",
    "        return None\n",
    "\n",
    "answers = []\n",
    "\n",
    "for match in results.matches:\n",
    "    answer = {\n",
    "        'uuid': match['id'],\n",
    "        'chunk': find_text_by_uuid(df, match['id']),\n",
    "        'score': match['score']\n",
    "    }\n",
    "    answers.append(answer)\n",
    "\n",
    "# Sort the answers    \n",
    "answers = sorted(answers, key=lambda x: x['score'], reverse=True)"
   ]
  },
  {
   "cell_type": "markdown",
   "metadata": {},
   "source": [
    "Sort the answers descendingly"
   ]
  },
  {
   "cell_type": "code",
   "execution_count": 39,
   "metadata": {},
   "outputs": [
    {
     "name": "stdout",
     "output_type": "stream",
     "text": [
      "[\"68.3%. This was the highest possession percentage in the tournament and was a testament to Spain's\"]\n"
     ]
    }
   ],
   "source": [
    "texts_responses = [answer['chunk'] for answer in answers]\n",
    "print(texts_responses)"
   ]
  },
  {
   "cell_type": "markdown",
   "metadata": {},
   "source": [
    "Grab the first answer, the answer with the hightest score:"
   ]
  },
  {
   "cell_type": "code",
   "execution_count": 40,
   "metadata": {},
   "outputs": [
    {
     "name": "stdout",
     "output_type": "stream",
     "text": [
      "68.3%. This was the highest possession percentage in the tournament and was a testament to Spain's\n"
     ]
    }
   ],
   "source": [
    "most_probable_response = texts_responses[0]\n",
    "print(most_probable_response)"
   ]
  }
 ],
 "metadata": {
  "kernelspec": {
   "display_name": "myenv",
   "language": "python",
   "name": "python3"
  },
  "language_info": {
   "codemirror_mode": {
    "name": "ipython",
    "version": 3
   },
   "file_extension": ".py",
   "mimetype": "text/x-python",
   "name": "python",
   "nbconvert_exporter": "python",
   "pygments_lexer": "ipython3",
   "version": "3.12.2"
  }
 },
 "nbformat": 4,
 "nbformat_minor": 2
}
