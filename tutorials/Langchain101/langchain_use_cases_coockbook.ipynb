{
 "cells": [
  {
   "cell_type": "markdown",
   "metadata": {},
   "source": [
    "# Langchain Cookbook"
   ]
  },
  {
   "cell_type": "markdown",
   "metadata": {},
   "source": [
    "### Summarization"
   ]
  },
  {
   "cell_type": "code",
   "execution_count": 1,
   "metadata": {},
   "outputs": [
    {
     "data": {
      "text/plain": [
       "True"
      ]
     },
     "execution_count": 1,
     "metadata": {},
     "output_type": "execute_result"
    }
   ],
   "source": [
    "import os\n",
    "from dotenv import load_dotenv, find_dotenv\n",
    "load_dotenv(find_dotenv())"
   ]
  },
  {
   "cell_type": "code",
   "execution_count": 2,
   "metadata": {},
   "outputs": [],
   "source": [
    "hugging_face_token = os.getenv(\"HUGGINGFACEHUB_API_TOKEN\")\n",
    "langchain_token = os.getenv(\"LANGCHAIN_API_KEY\")\n",
    "serp_token = os.getenv(\"SERPAPI_API_KEY\")"
   ]
  },
  {
   "cell_type": "code",
   "execution_count": 3,
   "metadata": {},
   "outputs": [
    {
     "name": "stdout",
     "output_type": "stream",
     "text": [
      "The token has not been saved to the git credentials helper. Pass `add_to_git_credential=True` in this function directly or `--add-to-git-credential` if using via `huggingface-cli` if you want to set the git credential as well.\n",
      "Token is valid (permission: write).\n",
      "Your token has been saved to C:\\Users\\Hori\\.cache\\huggingface\\token\n",
      "Login successful\n"
     ]
    }
   ],
   "source": [
    "from langchain_huggingface import HuggingFaceEndpoint\n",
    "\n",
    "repo_id = \"mistralai/Mistral-7B-Instruct-v0.2\"\n",
    "\n",
    "\n",
    "llm = HuggingFaceEndpoint(repo_id=repo_id,\n",
    "                          huggingfacehub_api_token=hugging_face_token,\n",
    "                          temperature=0.1)"
   ]
  },
  {
   "cell_type": "markdown",
   "metadata": {},
   "source": [
    "### Summaries Of Short Text\n",
    "\n",
    "For summaries of short texts, the method is straightforward, in fact you don't need to do anything fancy other than simple prompting with instructions"
   ]
  },
  {
   "cell_type": "code",
   "execution_count": 4,
   "metadata": {},
   "outputs": [],
   "source": [
    "from langchain import PromptTemplate\n",
    "template = \"\"\" \n",
    "    %INSTRUCTIONS:\n",
    "    Please summarize the following piece of text.\n",
    "    Respond in a manner that a 5 year old would understand.\n",
    "    \n",
    "    %TEXT:\n",
    "    {text}\n",
    "\"\"\"\n",
    "\n",
    "prompt = PromptTemplate(\n",
    "    input_variables=[\"text\"],\n",
    "    template=template,\n",
    ")"
   ]
  },
  {
   "cell_type": "code",
   "execution_count": 5,
   "metadata": {},
   "outputs": [],
   "source": [
    "confusing_text = \"\"\"\n",
    "For the next 130 years, debate raged.\n",
    "Some scientists called Prototaxites a lichen, others a fungus, and still others clung to the notion that it was some kind of tree.\n",
    "“The problem is that when you look up close at the anatomy, it’s evocative of a lot of different things, but it’s diagnostic of nothing,” says Boyce, an associate professor in geophysical sciences and the Committee on Evolutionary Biology.\n",
    "“And it’s so damn big that when whenever someone says it’s something, everyone else’s hackles get up: ‘How could you have a lichen 20 feet tall?’”\n",
    "\"\"\""
   ]
  },
  {
   "cell_type": "code",
   "execution_count": 6,
   "metadata": {},
   "outputs": [
    {
     "name": "stdout",
     "output_type": "stream",
     "text": [
      "------- Prompt Begin -------\n",
      " \n",
      "    %INSTRUCTIONS:\n",
      "    Please summarize the following piece of text.\n",
      "    Respond in a manner that a 5 year old would understand.\n",
      "    \n",
      "    %TEXT:\n",
      "    \n",
      "For the next 130 years, debate raged.\n",
      "Some scientists called Prototaxites a lichen, others a fungus, and still others clung to the notion that it was some kind of tree.\n",
      "“The problem is that when you look up close at the anatomy, it’s evocative of a lot of different things, but it’s diagnostic of nothing,” says Boyce, an associate professor in geophysical sciences and the Committee on Evolutionary Biology.\n",
      "“And it’s so damn big that when whenever someone says it’s something, everyone else’s hackles get up: ‘How could you have a lichen 20 feet tall?’”\n",
      "\n",
      "\n",
      "------- Prompt End -------\n"
     ]
    }
   ],
   "source": [
    "print (\"------- Prompt Begin -------\")\n",
    "\n",
    "final_prompt = prompt.format(text=confusing_text)\n",
    "print(final_prompt)\n",
    "\n",
    "print (\"------- Prompt End -------\")\n"
   ]
  },
  {
   "cell_type": "code",
   "execution_count": 7,
   "metadata": {},
   "outputs": [
    {
     "name": "stdout",
     "output_type": "stream",
     "text": [
      "    %SUMMARY:\n",
      "    A long time ago, people argued about what a big, strange thing called Prototaxites was. Some thought it was a kind of plant called a lichen, others thought it was a different kind of plant called a fungus, and some thought it was a tree. But no one could really agree because it looked like lots of things, and it was really big, so people got mad when others suggested their ideas.\n"
     ]
    }
   ],
   "source": [
    "output = llm.invoke(final_prompt)\n",
    "print(output)"
   ]
  },
  {
   "cell_type": "markdown",
   "metadata": {},
   "source": [
    "### Summarries of Longer Text"
   ]
  },
  {
   "cell_type": "markdown",
   "metadata": {},
   "source": [
    "Note: This method will also work for short text too"
   ]
  },
  {
   "cell_type": "code",
   "execution_count": 11,
   "metadata": {},
   "outputs": [],
   "source": [
    "from langchain.chains.summarize import load_summarize_chain\n",
    "from langchain.text_splitter import RecursiveCharacterTextSplitter"
   ]
  },
  {
   "cell_type": "markdown",
   "metadata": {},
   "source": [
    "Let's load up a longer document"
   ]
  },
  {
   "cell_type": "code",
   "execution_count": 8,
   "metadata": {},
   "outputs": [
    {
     "name": "stdout",
     "output_type": "stream",
     "text": [
      "April 2008(This essay is derived from a talk at the 2008 Startup School.)About a month after we started Y Combinator we came up with the\n",
      "phrase that became our motto: Make something people want.  We've\n",
      "learned a lot since then, but if I were choosing now that's still\n",
      "the one I'd pick.\n"
     ]
    }
   ],
   "source": [
    "with open('../../data/good.txt', 'r') as file:\n",
    "    text = file.read()\n",
    "    \n",
    "print (text[:285])"
   ]
  },
  {
   "cell_type": "markdown",
   "metadata": {},
   "source": [
    "Let's check how many tokens we have in the text"
   ]
  },
  {
   "cell_type": "code",
   "execution_count": 9,
   "metadata": {},
   "outputs": [
    {
     "name": "stderr",
     "output_type": "stream",
     "text": [
      "Token indices sequence length is longer than the specified maximum sequence length for this model (3977 > 1024). Running this sequence through the model will result in indexing errors\n"
     ]
    },
    {
     "name": "stdout",
     "output_type": "stream",
     "text": [
      "There are 3977 tokens in my file\n"
     ]
    }
   ],
   "source": [
    "num_tokens = llm.get_num_tokens(text)\n",
    "print(f\"There are {num_tokens} tokens in my file\")"
   ]
  },
  {
   "cell_type": "markdown",
   "metadata": {},
   "source": [
    "Let's split the text into smaller chunks"
   ]
  },
  {
   "cell_type": "code",
   "execution_count": 13,
   "metadata": {},
   "outputs": [
    {
     "name": "stdout",
     "output_type": "stream",
     "text": [
      "We have now 4 docs instead of 1 piece of text\n"
     ]
    }
   ],
   "source": [
    "text_splitter = RecursiveCharacterTextSplitter(separators=[\"\\n\\n\", \"\\n\"], chunk_size=5000, chunk_overlap=350)\n",
    "docs = text_splitter.create_documents([text])\n",
    "\n",
    "print(f\"We have now {len(docs)} docs instead of 1 piece of text\")"
   ]
  },
  {
   "cell_type": "markdown",
   "metadata": {},
   "source": [
    "Create the summarize chain"
   ]
  },
  {
   "cell_type": "code",
   "execution_count": 19,
   "metadata": {},
   "outputs": [],
   "source": [
    "chain = load_summarize_chain(llm=llm, chain_type=\"map_reduce\", verbose=True)"
   ]
  },
  {
   "cell_type": "code",
   "execution_count": 20,
   "metadata": {},
   "outputs": [
    {
     "name": "stderr",
     "output_type": "stream",
     "text": [
      "c:\\Users\\Hori\\Desktop\\Evozon\\python\\llm\\myenv\\Lib\\site-packages\\langchain_core\\_api\\deprecation.py:139: LangChainDeprecationWarning: The method `Chain.run` was deprecated in langchain 0.1.0 and will be removed in 0.3.0. Use invoke instead.\n",
      "  warn_deprecated(\n"
     ]
    },
    {
     "name": "stdout",
     "output_type": "stream",
     "text": [
      "\n",
      "\n",
      "\u001b[1m> Entering new MapReduceDocumentsChain chain...\u001b[0m\n",
      "\n",
      "\n",
      "\u001b[1m> Entering new LLMChain chain...\u001b[0m\n",
      "Prompt after formatting:\n",
      "\u001b[32;1m\u001b[1;3mWrite a concise summary of the following:\n",
      "\n",
      "\n",
      "\"April 2008(This essay is derived from a talk at the 2008 Startup School.)About a month after we started Y Combinator we came up with the\n",
      "phrase that became our motto: Make something people want.  We've\n",
      "learned a lot since then, but if I were choosing now that's still\n",
      "the one I'd pick.Another thing we tell founders is not to worry too much about the\n",
      "business model, at least at first.  Not because making money is\n",
      "unimportant, but because it's so much easier than building something\n",
      "great.A couple weeks ago I realized that if you put those two ideas\n",
      "together, you get something surprising.  Make something people want.\n",
      "Don't worry too much about making money.  What you've got is a\n",
      "description of a charity.When you get an unexpected result like this, it could either be a\n",
      "bug or a new discovery.  Either businesses aren't supposed to be\n",
      "like charities, and we've proven by reductio ad absurdum that one\n",
      "or both of the principles we began with is false.  Or we have a new\n",
      "idea.I suspect it's the latter, because as soon as this thought occurred\n",
      "to me, a whole bunch of other things fell into place.ExamplesFor example, Craigslist.  It's not a charity, but they run it like\n",
      "one.  And they're astoundingly successful.  When you scan down the\n",
      "list of most popular web sites, the number of employees at Craigslist\n",
      "looks like a misprint. Their revenues aren't as high as they could\n",
      "be, but most startups would be happy to trade places with them.In Patrick O'Brian's novels, his captains always try to get upwind\n",
      "of their opponents.  If you're upwind, you decide when and if to\n",
      "engage the other ship.  Craigslist is effectively upwind of enormous\n",
      "revenues.  They'd face some challenges if they wanted to make more,\n",
      "but not the sort you face when you're tacking upwind, trying to\n",
      "force a crappy product on ambivalent users by spending ten times\n",
      "as much on sales as on development.  [1]I'm not saying startups should aim to end up like Craigslist.\n",
      "They're a product of unusual circumstances.  But they're a good\n",
      "model for the early phases.Google looked a lot like a charity in the beginning. They didn't\n",
      "have ads for over a year.  At year 1, Google was indistinguishable\n",
      "from a nonprofit.  If a nonprofit or government organization had\n",
      "started a project to index the web, Google at year 1 is the limit\n",
      "of what they'd have produced.Back when I was working on spam filters I thought it would be a\n",
      "good idea to have a web-based email service with good spam filtering.\n",
      "I wasn't thinking of it as a company.  I just wanted to keep people\n",
      "from getting spammed.  But as I thought more about this project, I\n",
      "realized it would probably have to be a company.  It would cost\n",
      "something to run, and it would be a pain to fund with grants and\n",
      "donations.That was a surprising realization.  Companies often claim to be\n",
      "benevolent, but it was surprising to realize there were purely\n",
      "benevolent projects that had to be embodied as companies to work.I didn't want to start another company, so I didn't do it.  But if\n",
      "someone had, they'd probably be quite rich now.  There was a window\n",
      "of about two years when spam was increasing rapidly but all the big\n",
      "email services had terrible filters.  If someone had launched a\n",
      "new, spam-free mail service, users would have flocked to it.Notice the pattern here?  From either direction we get to the same\n",
      "spot.  If you start from successful startups, you find they often\n",
      "behaved like nonprofits.  And if you start from ideas for nonprofits,\n",
      "you find they'd often make good startups.PowerHow wide is this territory?  Would all good nonprofits be good\n",
      "companies?  Possibly not.  What makes Google so valuable is that\n",
      "their users have money.  If you make people with money love you,\n",
      "you can probably get some of it.  But could you also base a successful\n",
      "startup on behaving like a nonprofit to people who don't have money?\n",
      "Could you, for example, grow a successful startup out of curing an\n",
      "unfashionable but deadly disease like malaria?I'm not sure, but I suspect that if you pushed this idea, you'd be\n",
      "surprised how far it would go.  For example, people who apply to Y\n",
      "Combinator don't generally have much money, and yet we can profit\n",
      "by helping them, because with our help they could make money.  Maybe\n",
      "the situation is similar with malaria.  Maybe an organization that\n",
      "helped lift its weight off a country could benefit from the resulting\n",
      "growth.I'm not proposing this is a serious idea.  I don't know anything\n",
      "about malaria.  But I've been kicking ideas around long enough to\n",
      "know when I come across a powerful one.One way to guess how far an idea extends is to ask yourself at what\n",
      "point you'd bet against it.  The thought of betting against benevolence\n",
      "is alarming in the same way as saying that something is technically\n",
      "impossible.  You're just asking to be made a fool of, because these\n",
      "are such powerful forces.  [2]For example, initially I thought maybe this principle only applied\n",
      "to Internet startups.  Obviously it worked for Google, but what\"\n",
      "\n",
      "\n",
      "CONCISE SUMMARY:\u001b[0m\n",
      "Prompt after formatting:\n",
      "\u001b[32;1m\u001b[1;3mWrite a concise summary of the following:\n",
      "\n",
      "\n",
      "\"is alarming in the same way as saying that something is technically\n",
      "impossible.  You're just asking to be made a fool of, because these\n",
      "are such powerful forces.  [2]For example, initially I thought maybe this principle only applied\n",
      "to Internet startups.  Obviously it worked for Google, but what\n",
      "about Microsoft?  Surely Microsoft isn't benevolent?  But when I\n",
      "think back to the beginning, they were.  Compared to IBM they were\n",
      "like Robin Hood.  When IBM introduced the PC, they thought they\n",
      "were going to make money selling hardware at high prices.  But by\n",
      "gaining control of the PC standard, Microsoft opened up the market\n",
      "to any manufacturer.  Hardware prices plummeted, and lots of people\n",
      "got to have computers who couldn't otherwise have afforded them.\n",
      "It's the sort of thing you'd expect Google to do.Microsoft isn't so benevolent now.  Now when one thinks of what\n",
      "Microsoft does to users, all the verbs that come to mind begin with\n",
      "F.  [3] And yet it doesn't seem to pay.\n",
      "Their stock price has been flat for years.  Back when they were\n",
      "Robin Hood, their stock price rose like Google's.  Could there be\n",
      "a connection?You can see how there would be.  When you're small, you can't bully\n",
      "customers, so you have to charm them.  Whereas when you're big you\n",
      "can maltreat them at will, and you tend to, because it's easier\n",
      "than satisfying them.  You grow big by being nice, but you can stay\n",
      "big by being mean.You get away with it till the underlying conditions change, and\n",
      "then all your victims escape.  So \"Don't be evil\" may be the most\n",
      "valuable thing Paul Buchheit made for Google, because it may turn\n",
      "out to be an elixir of corporate youth.  I'm sure they find it\n",
      "constraining, but think how valuable it will be if it saves them\n",
      "from lapsing into the fatal laziness that afflicted Microsoft and\n",
      "IBM.The curious thing is, this elixir is freely available to any other\n",
      "company.  Anyone can adopt \"Don't be evil.\"  The catch is that\n",
      "people will hold you to it.  So I don't think you're going to see\n",
      "record labels or tobacco companies using this discovery.MoraleThere's a lot of external evidence that benevolence works.  But how\n",
      "does it work?  One advantage of investing in a large number of\n",
      "startups is that you get a lot of data about how they work.  From\n",
      "what we've seen, being good seems to help startups in three ways:\n",
      "it improves their morale, it makes other people want to help them,\n",
      "and above all, it helps them be decisive.Morale is tremendously important to a startupâ€”so important\n",
      "that morale alone is almost enough to determine success.  Startups\n",
      "are often described as emotional roller-coasters. One minute you're\n",
      "going to take over the world, and the next you're doomed.  The\n",
      "problem with feeling you're doomed is not just that it makes you\n",
      "unhappy, but that it makes you stop working.  So the downhills\n",
      "of the roller-coaster are more of a self fulfilling prophecy than\n",
      "the uphills.  If feeling you're going to succeed makes you work\n",
      "harder, that probably improves your chances of succeeding, but if\n",
      "feeling you're going to fail makes you stop working, that practically\n",
      "guarantees you'll fail.Here's where benevolence comes in.  If you feel you're really helping\n",
      "people, you'll keep working even when it seems like your startup\n",
      "is doomed.  Most of us have some amount of natural benevolence.\n",
      "The mere fact that someone needs you makes you want to help them.\n",
      "So if you start the kind of startup where users come back each day,\n",
      "you've basically built yourself a giant tamagotchi.  You've made\n",
      "something you need to take care of.Blogger is a famous example of a startup that went through really\n",
      "low lows and survived.  At one point they ran out of money and\n",
      "everyone left. Evan Williams came in to work the next day, and there\n",
      "was no one but him.  What kept him going?  Partly that users needed\n",
      "him.  He was hosting thousands of people's blogs. He couldn't just\n",
      "let the site die.There are many advantages of launching quickly, but the most important\n",
      "may be that once you have users, the tamagotchi effect kicks in.\n",
      "Once you have users to take care of, you're forced to figure out\n",
      "what will make them happy, and that's actually very valuable\n",
      "information.The added confidence that comes from trying to help people can\n",
      "also help you with investors. One of the founders of \n",
      "Chatterous told \n",
      "me recently that he and his cofounder had decided that this service\n",
      "was something the world needed, so they were going to keep working\n",
      "on it no matter what, even if they had to move back to Canada and live\n",
      "in their parents' basements.Once they realized this, they stopped caring so much what investors thought\n",
      "about them.  They still met with them, but they weren't going to\n",
      "die if they didn't get their money.  And you know what?  The investors\n",
      "got a lot more interested.  They could sense that the Chatterouses\n",
      "were going to do this startup with or without them.If you're really committed and your startup is cheap to run, you\n",
      "become very hard to kill.  And practically all startups, even the\"\n",
      "\n",
      "\n",
      "CONCISE SUMMARY:\u001b[0m\n",
      "Prompt after formatting:\n",
      "\u001b[32;1m\u001b[1;3mWrite a concise summary of the following:\n",
      "\n",
      "\n",
      "\"die if they didn't get their money.  And you know what?  The investors\n",
      "got a lot more interested.  They could sense that the Chatterouses\n",
      "were going to do this startup with or without them.If you're really committed and your startup is cheap to run, you\n",
      "become very hard to kill.  And practically all startups, even the\n",
      "most successful, come close to death at some point.  So if doing\n",
      "good for people gives you a sense of mission that makes you harder\n",
      "to kill, that alone more than compensates for whatever you lose by\n",
      "not choosing a more selfish project.HelpAnother advantage of being good is that it makes other people want\n",
      "to help you.  This too seems to be an inborn trait in humans.One of the startups we've funded, Octopart, is currently locked in\n",
      "a classic battle of good versus evil.  They're a search site for\n",
      "industrial components.  A lot of people need to search for components,\n",
      "and before Octopart there was no good way to do it.  That, it turned\n",
      "out, was no coincidence.Octopart built the right way to search for components.  Users like\n",
      "it and they've been growing rapidly.  And yet for most of Octopart's\n",
      "life, the biggest distributor, Digi-Key, has been trying to force\n",
      "them take their prices off the site.  Octopart is sending them\n",
      "customers for free, and yet Digi-Key is trying to make that traffic\n",
      "stop.  Why?  Because their current business model depends on\n",
      "overcharging people who have incomplete information about prices.\n",
      "They don't want search to work.The Octoparts are the nicest guys in the world.  They dropped out\n",
      "of the PhD program in physics at Berkeley to do this.  They just\n",
      "wanted to fix a problem they encountered in their research.  Imagine\n",
      "how much time you could save the world's engineers if they could\n",
      "do searches online.  So when I hear that a big, evil company is\n",
      "trying to stop them in order to keep search broken, it makes me\n",
      "really want to help them. It makes me spend more time on the Octoparts\n",
      "than I do with most of the other startups we've funded.  It just\n",
      "made me spend several minutes telling you how great they are.  Why?\n",
      "Because they're good guys and they're trying to help the world.If you're benevolent, people will rally around you: investors,\n",
      "customers, other companies, and potential employees.  In the long\n",
      "term the most important may be the potential employees.  I think\n",
      "everyone knows now that \n",
      "good hackers are much better than mediocre\n",
      "ones.  If you can attract the best hackers to work for you, as\n",
      "Google has, you have a big advantage.  And the very best hackers\n",
      "tend to be idealistic.  They're not desperate for a job.  They can\n",
      "work wherever they want.  So most want to work on things that will\n",
      "make the world better.CompassBut the most important advantage of being good is that it acts as\n",
      "a compass.  One of the hardest parts of doing a startup is that you\n",
      "have so many choices.  There are just two or three of you, and a\n",
      "thousand things you could do. How do you decide?Here's the answer: Do whatever's best for your users.  You can hold\n",
      "onto this like a rope in a hurricane, and it will save you if\n",
      "anything can.  Follow it and it will take you through everything\n",
      "you need to do.It's even the answer to questions that seem unrelated, like how to\n",
      "convince investors to give you money.  If you're a good salesman,\n",
      "you could try to just talk them into it.  But the more reliable\n",
      "route is to convince them through your users: if you make something\n",
      "users love enough to tell their friends, you grow exponentially,\n",
      "and that will convince any investor.Being good is a particularly useful strategy for making decisions\n",
      "in complex situations because it's stateless.  It's like telling\n",
      "the truth.  The trouble with lying is that you have to remember\n",
      "everything you've said in the past to make sure you don't contradict\n",
      "yourself.  If you tell the truth you don't have to remember anything,\n",
      "and that's a really useful property in domains where things happen\n",
      "fast.For example, Y Combinator has now invested in 80 startups, 57 of\n",
      "which are still alive.  (The rest have died or merged or been\n",
      "acquired.)  When you're trying to advise 57 startups, it turns out\n",
      "you have to have a stateless algorithm.  You can't have ulterior\n",
      "motives when you have 57 things going on at once, because you can't\n",
      "remember them.  So our rule is just to do whatever's best for the\n",
      "founders.  Not because we're particularly benevolent, but because\n",
      "it's the only algorithm that works on that scale.When you write something telling people to be good, you seem to be\n",
      "claiming to be good yourself.  So I want to say explicitly that I\n",
      "am not a particularly good person.  When I was a kid I was firmly\n",
      "in the camp of bad.  The way adults used the word good, it seemed\n",
      "to be synonymous with quiet, so I grew up very suspicious of it.You know how there are some people whose names come up in conversation\n",
      "and everyone says \"He's such a great guy?\"  People never say\n",
      "that about me.  The best I get is \"he means well.\"  I am not claiming\"\n",
      "\n",
      "\n",
      "CONCISE SUMMARY:\u001b[0m\n",
      "Prompt after formatting:\n",
      "\u001b[32;1m\u001b[1;3mWrite a concise summary of the following:\n",
      "\n",
      "\n",
      "\"in the camp of bad.  The way adults used the word good, it seemed\n",
      "to be synonymous with quiet, so I grew up very suspicious of it.You know how there are some people whose names come up in conversation\n",
      "and everyone says \"He's such a great guy?\"  People never say\n",
      "that about me.  The best I get is \"he means well.\"  I am not claiming\n",
      "to be good.  At best I speak good as a second language.So I'm not suggesting you be good in the usual sanctimonious way.\n",
      "I'm suggesting it because it works.  It will work not just as a\n",
      "statement of \"values,\" but as a guide to strategy,\n",
      "and even a design spec for software.  Don't just not be evil.  Be\n",
      "good.Notes[1] Fifty years ago\n",
      "it would have seemed shocking for a public company not to pay\n",
      "dividends.  Now many tech companies don't.  The markets seem to\n",
      "have figured out how to value potential dividends.  Maybe that isn't\n",
      "the last step in this evolution.  Maybe markets will eventually get\n",
      "comfortable with potential earnings. (VCs already are, and at least\n",
      "some of them consistently make money.)I realize this sounds like the stuff one used to hear about the\n",
      "\"new economy\" during the Bubble.  Believe me, I was not drinking\n",
      "that kool-aid at the time.  But I'm convinced there were some \n",
      "good\n",
      "ideas buried in Bubble thinking.  For example, it's ok to focus on\n",
      "growth instead of profitsâ€”but only if the growth is genuine.\n",
      "You can't be buying users; that's a pyramid scheme.   But a company\n",
      "with rapid, genuine growth is valuable, and eventually markets learn\n",
      "how to value valuable things.[2] The idea of starting\n",
      "a company with benevolent aims is currently undervalued, because\n",
      "the kind of people who currently make that their explicit goal don't\n",
      "usually do a very good job.It's one of the standard career paths of trustafarians to start\n",
      "some vaguely benevolent business.  The problem with most of them\n",
      "is that they either have a bogus political agenda or are feebly\n",
      "executed.  The trustafarians' ancestors didn't get rich by preserving\n",
      "their traditional culture; maybe people in Bolivia don't want to\n",
      "either.  And starting an organic farm, though it's at least\n",
      "straightforwardly benevolent, doesn't help people on the scale that\n",
      "Google does.Most explicitly benevolent projects don't hold themselves sufficiently\n",
      "accountable.  They act as if having good intentions were enough to\n",
      "guarantee good effects.[3] Users dislike their\n",
      "new operating system so much that they're starting petitions to\n",
      "save the old one.  And the old one was nothing special.  The hackers\n",
      "within Microsoft must know in their hearts that if the company\n",
      "really cared about users they'd just advise them to switch to OSX.Thanks to Trevor Blackwell, Paul Buchheit, Jessica Livingston,\n",
      "and Robert Morris for reading drafts of this.\"\n",
      "\n",
      "\n",
      "CONCISE SUMMARY:\u001b[0m\n",
      "\n",
      "\u001b[1m> Finished chain.\u001b[0m\n",
      "\n",
      "\n",
      "\u001b[1m> Entering new LLMChain chain...\u001b[0m\n",
      "Prompt after formatting:\n",
      "\u001b[32;1m\u001b[1;3mWrite a concise summary of the following:\n",
      "\n",
      "\n",
      "\"\n",
      "\n",
      "In this essay, Paul Graham, the founder of Y Combinator, shares his insights on building successful startups. He emphasizes the importance of creating something people want and not worrying too much about the business model in the initial stages. Graham suggests that this approach could make a startup resemble a charity, as it focuses on providing value to users rather than making immediate profits. He uses examples like Craigslist and Google to illustrate this concept, and suggests that there might be potential for successful startups based on purely benevolent projects. However, he also acknowledges that not all good nonprofits would make good companies, as the success of a startup often depends on its users having the ability to pay. Graham concludes by suggesting that this idea might be worth exploring further, as it challenges traditional assumptions about the relationship between benevolence and profitability in startups.\n",
      "\n",
      "\n",
      "\n",
      "The article discusses the importance of being benevolent in business, using the examples of Google, Microsoft, and IBM. The author argues that being nice to customers and users in the early stages of a company can lead to success, as it improves morale, makes others want to help, and helps in being decisive. Microsoft, initially a benevolent company, lost its edge when it grew big and started maltreating customers. Google, on the other hand, has adopted the \"Don't be evil\" motto, which may help it stay youthful and competitive. The author also mentions that benevolence is important for startups, as it helps them keep going during tough times and attract investors.\n",
      "\n",
      "\n",
      "\n",
      "The article emphasizes the importance of being good and committed in starting a business. The authors share their experiences with startups, particularly Octopart, and how their benevolence and commitment have attracted support from investors, customers, and employees. Being good also acts as a compass in making decisions and navigating complex situations. The authors acknowledge that they are not particularly good people themselves but believe that the principle of doing what's best for users is a reliable and scalable approach for startups.\n",
      "\n",
      "\n",
      "\n",
      "The author expresses his skepticism towards the concept of being \"good\" as it is often associated with quietness and conformity. Instead, he suggests embracing the idea of being good as a strategic and effective approach. He argues that markets have evolved to value potential earnings and growth, and that companies with genuine growth and benevolent aims are valuable. However, he cautions against starting benevolent projects without holding oneself accountable for their effects. He also criticizes trustafarians for their feebly executed and often politically agenda-driven benevolent businesses. The author concludes by thanking those who provided feedback on earlier drafts of the essay.\"\n",
      "\n",
      "\n",
      "CONCISE SUMMARY:\u001b[0m\n",
      "\n",
      "\u001b[1m> Finished chain.\u001b[0m\n",
      "\n",
      "\u001b[1m> Finished chain.\u001b[0m\n",
      "\n",
      "\n",
      "Paul Graham, the founder of Y Combinator, argues that creating something people want and focusing on providing value to users, rather than immediate profits, can lead to successful startups. He uses examples like Craigslist and Google to illustrate this concept and suggests that there might be potential for successful startups based on purely benevolent projects. However, he acknowledges that not all good nonprofits would make good companies, as the success of a startup often depends on its users having the ability to pay. The authors of another article also emphasize the importance of being good and committed in business, sharing their experiences with startups and how their benevolence and commitment have attracted support. They believe that doing what's best for users is a reliable and scalable approach for startups. The third article expresses skepticism towards the concept of being \"good\" but argues that markets value potential earnings and growth, and that companies with genuine growth and benevolent aims are valuable. However, he cautions against starting benevolent projects without holding oneself accountable for their effects.\n"
     ]
    }
   ],
   "source": [
    "output = chain.run(docs)\n",
    "print(output)"
   ]
  },
  {
   "cell_type": "markdown",
   "metadata": {},
   "source": [
    "### Question & Answering Using Documents as Context"
   ]
  },
  {
   "cell_type": "code",
   "execution_count": 22,
   "metadata": {},
   "outputs": [],
   "source": [
    "context = \"\"\"\n",
    "Rachel is 30 years old\n",
    "Bob is 45 years old\n",
    "Kevin is 65 years old\n",
    "\"\"\"\n",
    "\n",
    "question = \"Who is under 40 years old?\""
   ]
  },
  {
   "cell_type": "code",
   "execution_count": 24,
   "metadata": {},
   "outputs": [
    {
     "name": "stdout",
     "output_type": "stream",
     "text": [
      "Rachel is the only one under 40 years old.\n",
      "Here's the reasoning:\n",
      "1. Rachel is 30 years old.\n",
      "2. Bob is 45 years old.\n",
      "3. Kevin is 65 years old.\n",
      "4. To find out who is under 40 years old, we need to identify the person whose age is less than 40.\n",
      "5. Rachel's age is 30, which is less than 40.\n",
      "6. Therefore, Rachel is the only one under 40 years old.\n"
     ]
    }
   ],
   "source": [
    "output = llm.invoke(context + question)\n",
    "print(output.strip())"
   ]
  },
  {
   "cell_type": "markdown",
   "metadata": {},
   "source": [
    "#### Using Embeddings"
   ]
  },
  {
   "cell_type": "code",
   "execution_count": 25,
   "metadata": {},
   "outputs": [],
   "source": [
    "from langchain.vectorstores import FAISS\n",
    "from langchain.chains import RetrievalQA\n",
    "from langchain.document_loaders import TextLoader\n",
    "from langchain.embeddings import HuggingFaceEmbeddings"
   ]
  },
  {
   "cell_type": "code",
   "execution_count": 27,
   "metadata": {},
   "outputs": [
    {
     "name": "stdout",
     "output_type": "stream",
     "text": [
      "You have 1 documents\n",
      "You have 74677 characters in the first document\n"
     ]
    }
   ],
   "source": [
    "loader = TextLoader('../../data/worked.txt')\n",
    "doc = loader.load()\n",
    "\n",
    "print(f\"You have {len(doc)} documents\")\n",
    "print(f\"You have {len(doc[0].page_content)} characters in the first document\")"
   ]
  },
  {
   "cell_type": "markdown",
   "metadata": {},
   "source": [
    "Split the text into smaller pieces"
   ]
  },
  {
   "cell_type": "code",
   "execution_count": 29,
   "metadata": {},
   "outputs": [],
   "source": [
    "text_splitter = RecursiveCharacterTextSplitter(chunk_size=3000, chunk_overlap=400)\n",
    "docs = text_splitter.split_documents(doc)"
   ]
  },
  {
   "cell_type": "code",
   "execution_count": 30,
   "metadata": {},
   "outputs": [
    {
     "name": "stdout",
     "output_type": "stream",
     "text": [
      "Now you have 29 documents that have an average of 2,931  characters (smaller pieces)\n"
     ]
    }
   ],
   "source": [
    "num_total_characters = sum([len(x.page_content) for x in docs])\n",
    "print(f\"Now you have {len(docs)} documents that have an average of {num_total_characters / len(docs):,.0f}  characters (smaller pieces)\")"
   ]
  },
  {
   "cell_type": "markdown",
   "metadata": {},
   "source": [
    "Get embeddings from the texts and the vector store as FAISS"
   ]
  },
  {
   "cell_type": "code",
   "execution_count": 31,
   "metadata": {},
   "outputs": [
    {
     "name": "stderr",
     "output_type": "stream",
     "text": [
      "c:\\Users\\Hori\\Desktop\\Evozon\\python\\llm\\myenv\\Lib\\site-packages\\langchain_core\\_api\\deprecation.py:139: LangChainDeprecationWarning: The class `HuggingFaceEmbeddings` was deprecated in LangChain 0.2.2 and will be removed in 0.3.0. An updated version of the class exists in the langchain-huggingface package and should be used instead. To use it run `pip install -U langchain-huggingface` and import as `from langchain_huggingface import HuggingFaceEmbeddings`.\n",
      "  warn_deprecated(\n"
     ]
    }
   ],
   "source": [
    "embeddings = HuggingFaceEmbeddings()\n",
    "docsearch = FAISS.from_documents(docs, embeddings)"
   ]
  },
  {
   "cell_type": "markdown",
   "metadata": {},
   "source": [
    "Create the retreival engine"
   ]
  },
  {
   "cell_type": "code",
   "execution_count": 32,
   "metadata": {},
   "outputs": [],
   "source": [
    "qa = RetrievalQA.from_chain_type(llm=llm, chain_type=\"stuff\", retriever=docsearch.as_retriever())"
   ]
  },
  {
   "cell_type": "markdown",
   "metadata": {},
   "source": [
    "Ask a question"
   ]
  },
  {
   "cell_type": "code",
   "execution_count": 34,
   "metadata": {},
   "outputs": [
    {
     "data": {
      "text/plain": [
       "{'query': 'What does the author describe as good work?',\n",
       " 'result': \" The author describes good work as something that lasts and can be made a living from. He specifically mentions painting as an example, but he also values work that is independent and not reliant on impressing others or being prestigious. He believes that working on things that aren't prestigious can lead to discovering something real and having the right motives.\"}"
      ]
     },
     "execution_count": 34,
     "metadata": {},
     "output_type": "execute_result"
    }
   ],
   "source": [
    "query = \"What does the author describe as good work?\"\n",
    "qa.invoke(query)"
   ]
  },
  {
   "cell_type": "markdown",
   "metadata": {},
   "source": [
    "### Extraction"
   ]
  },
  {
   "cell_type": "markdown",
   "metadata": {},
   "source": [
    "We want to parse data from a piece of text or a document"
   ]
  },
  {
   "cell_type": "code",
   "execution_count": null,
   "metadata": {},
   "outputs": [],
   "source": []
  }
 ],
 "metadata": {
  "kernelspec": {
   "display_name": "myenv",
   "language": "python",
   "name": "python3"
  },
  "language_info": {
   "codemirror_mode": {
    "name": "ipython",
    "version": 3
   },
   "file_extension": ".py",
   "mimetype": "text/x-python",
   "name": "python",
   "nbconvert_exporter": "python",
   "pygments_lexer": "ipython3",
   "version": "3.12.2"
  }
 },
 "nbformat": 4,
 "nbformat_minor": 2
}
