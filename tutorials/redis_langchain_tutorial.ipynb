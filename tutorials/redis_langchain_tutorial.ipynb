{
 "cells": [
  {
   "cell_type": "markdown",
   "metadata": {},
   "source": [
    "# Redis with Langchain"
   ]
  },
  {
   "cell_type": "code",
   "execution_count": 6,
   "metadata": {},
   "outputs": [
    {
     "data": {
      "text/plain": [
       "True"
      ]
     },
     "execution_count": 6,
     "metadata": {},
     "output_type": "execute_result"
    }
   ],
   "source": [
    "import os\n",
    "from dotenv import load_dotenv, find_dotenv\n",
    "load_dotenv(find_dotenv())"
   ]
  },
  {
   "cell_type": "code",
   "execution_count": 12,
   "metadata": {},
   "outputs": [],
   "source": [
    "hugging_face_token = os.getenv(\"HUGGINGFACEHUB_API_TOKEN\")\n",
    "langchain_token = os.getenv(\"LANGCHAIN_API_KEY\")\n",
    "\n",
    "pinecone_api_key = os.getenv(\"PINECONE_API_KEY\")\n",
    "pinecone_env = os.getenv(\"PINECONE_ENV\")\n",
    "pinecone_index_host = os.getenv(\"PINECONE_INDEX_HOST\")\n",
    "\n",
    "redis_url = os.getenv(\"REDIS_URI\")\n",
    "host = os.getenv(\"REDIS_HOST\")\n",
    "password = os.getenv(\"REDIS_PASS\")\n",
    "port = os.getenv(\"REDIS_PORT\")\n"
   ]
  },
  {
   "cell_type": "markdown",
   "metadata": {},
   "source": [
    "Reddis connection"
   ]
  },
  {
   "cell_type": "code",
   "execution_count": 13,
   "metadata": {},
   "outputs": [],
   "source": [
    "import redis\n",
    "from langchain.vectorstores.redis import Redis\n",
    "\n",
    "r = redis.Redis(\n",
    "    host=host,\n",
    "    port=port,\n",
    "    password=password\n",
    ")"
   ]
  },
  {
   "cell_type": "markdown",
   "metadata": {},
   "source": [
    "Ping redis host to see if we are connected"
   ]
  },
  {
   "cell_type": "code",
   "execution_count": 14,
   "metadata": {},
   "outputs": [
    {
     "data": {
      "text/plain": [
       "True"
      ]
     },
     "execution_count": 14,
     "metadata": {},
     "output_type": "execute_result"
    }
   ],
   "source": [
    "r.ping()"
   ]
  },
  {
   "cell_type": "markdown",
   "metadata": {},
   "source": [
    "Clear Redis db"
   ]
  },
  {
   "cell_type": "code",
   "execution_count": 24,
   "metadata": {},
   "outputs": [
    {
     "data": {
      "text/plain": [
       "True"
      ]
     },
     "execution_count": 24,
     "metadata": {},
     "output_type": "execute_result"
    }
   ],
   "source": [
    "r.flushdb()\n",
    "r.flushall()"
   ]
  },
  {
   "cell_type": "markdown",
   "metadata": {},
   "source": [
    "Get Redis keys"
   ]
  },
  {
   "cell_type": "code",
   "execution_count": null,
   "metadata": {},
   "outputs": [],
   "source": [
    "r.keys()"
   ]
  },
  {
   "cell_type": "markdown",
   "metadata": {},
   "source": [
    "Get amazon fashion review dataset"
   ]
  },
  {
   "cell_type": "code",
   "execution_count": 26,
   "metadata": {},
   "outputs": [],
   "source": [
    "import gzip\n",
    "import json\n",
    "import pandas as pd\n",
    "\n",
    "def get_data(asin):\n",
    "    data = []\n",
    "    with gzip.open('../data/AMAZON_FASHION.json.gz') as file:\n",
    "        for line in file:\n",
    "            data.append(json.loads(line.strip()))\n",
    "    df = pd.DataFrame.from_dict(data)\n",
    "    df = df[df['reviewText'].notna()]\n",
    "    df = df.loc[df['asin'] == asin].copy()\n",
    "    return df"
   ]
  },
  {
   "cell_type": "markdown",
   "metadata": {},
   "source": [
    "Get only a slice of the data"
   ]
  },
  {
   "cell_type": "code",
   "execution_count": 27,
   "metadata": {},
   "outputs": [],
   "source": [
    "df = get_data('B000KPIHQ4').reset_index()[['overall','asin','reviewText','summary', 'reviewerID']]"
   ]
  },
  {
   "cell_type": "code",
   "execution_count": 29,
   "metadata": {},
   "outputs": [
    {
     "data": {
      "text/html": [
       "<div>\n",
       "<style scoped>\n",
       "    .dataframe tbody tr th:only-of-type {\n",
       "        vertical-align: middle;\n",
       "    }\n",
       "\n",
       "    .dataframe tbody tr th {\n",
       "        vertical-align: top;\n",
       "    }\n",
       "\n",
       "    .dataframe thead th {\n",
       "        text-align: right;\n",
       "    }\n",
       "</style>\n",
       "<table border=\"1\" class=\"dataframe\">\n",
       "  <thead>\n",
       "    <tr style=\"text-align: right;\">\n",
       "      <th></th>\n",
       "      <th>overall</th>\n",
       "      <th>asin</th>\n",
       "      <th>reviewText</th>\n",
       "      <th>summary</th>\n",
       "      <th>reviewerID</th>\n",
       "    </tr>\n",
       "  </thead>\n",
       "  <tbody>\n",
       "    <tr>\n",
       "      <th>0</th>\n",
       "      <td>3.0</td>\n",
       "      <td>B000KPIHQ4</td>\n",
       "      <td>Good price, good product. Howver, it is generi...</td>\n",
       "      <td>Orthotics off the rack</td>\n",
       "      <td>A1CIM0XZ3UA926</td>\n",
       "    </tr>\n",
       "    <tr>\n",
       "      <th>1</th>\n",
       "      <td>5.0</td>\n",
       "      <td>B000KPIHQ4</td>\n",
       "      <td>My husband rates these insoles a 5 for comfort...</td>\n",
       "      <td>Very comfortable</td>\n",
       "      <td>A1EVVPCWRW5YYZ</td>\n",
       "    </tr>\n",
       "    <tr>\n",
       "      <th>2</th>\n",
       "      <td>5.0</td>\n",
       "      <td>B000KPIHQ4</td>\n",
       "      <td>I have worn the Powerstep Pinnacle shoe insole...</td>\n",
       "      <td>... Pinnacle shoe insoles for the past 5 years...</td>\n",
       "      <td>A2P3NZ9H4PANK0</td>\n",
       "    </tr>\n",
       "    <tr>\n",
       "      <th>3</th>\n",
       "      <td>1.0</td>\n",
       "      <td>B000KPIHQ4</td>\n",
       "      <td>Very uncomfortable feel like I wasted my money!</td>\n",
       "      <td>Uncomfortable</td>\n",
       "      <td>A2975GY186VV7A</td>\n",
       "    </tr>\n",
       "    <tr>\n",
       "      <th>4</th>\n",
       "      <td>5.0</td>\n",
       "      <td>B000KPIHQ4</td>\n",
       "      <td>work perfect</td>\n",
       "      <td>Five Stars</td>\n",
       "      <td>A3U8E58RIKWDAW</td>\n",
       "    </tr>\n",
       "  </tbody>\n",
       "</table>\n",
       "</div>"
      ],
      "text/plain": [
       "   overall        asin                                         reviewText  \\\n",
       "0      3.0  B000KPIHQ4  Good price, good product. Howver, it is generi...   \n",
       "1      5.0  B000KPIHQ4  My husband rates these insoles a 5 for comfort...   \n",
       "2      5.0  B000KPIHQ4  I have worn the Powerstep Pinnacle shoe insole...   \n",
       "3      1.0  B000KPIHQ4    Very uncomfortable feel like I wasted my money!   \n",
       "4      5.0  B000KPIHQ4                                       work perfect   \n",
       "\n",
       "                                             summary      reviewerID  \n",
       "0                             Orthotics off the rack  A1CIM0XZ3UA926  \n",
       "1                                   Very comfortable  A1EVVPCWRW5YYZ  \n",
       "2  ... Pinnacle shoe insoles for the past 5 years...  A2P3NZ9H4PANK0  \n",
       "3                                      Uncomfortable  A2975GY186VV7A  \n",
       "4                                         Five Stars  A3U8E58RIKWDAW  "
      ]
     },
     "execution_count": 29,
     "metadata": {},
     "output_type": "execute_result"
    }
   ],
   "source": [
    "df.head()"
   ]
  },
  {
   "cell_type": "code",
   "execution_count": 31,
   "metadata": {},
   "outputs": [
    {
     "name": "stdout",
     "output_type": "stream",
     "text": [
      "overall       0\n",
      "asin          0\n",
      "reviewText    0\n",
      "summary       2\n",
      "reviewerID    0\n",
      "dtype: int64\n"
     ]
    }
   ],
   "source": [
    "missing_count = df.isnull().sum()\n",
    "print(missing_count)"
   ]
  },
  {
   "cell_type": "markdown",
   "metadata": {},
   "source": [
    "Drop missing values"
   ]
  },
  {
   "cell_type": "code",
   "execution_count": 32,
   "metadata": {},
   "outputs": [],
   "source": [
    "df.dropna(subset=['summary'], inplace=True)"
   ]
  },
  {
   "cell_type": "markdown",
   "metadata": {},
   "source": [
    "See if any we have missing values"
   ]
  },
  {
   "cell_type": "code",
   "execution_count": 33,
   "metadata": {},
   "outputs": [
    {
     "name": "stdout",
     "output_type": "stream",
     "text": [
      "overall       0\n",
      "asin          0\n",
      "reviewText    0\n",
      "summary       0\n",
      "reviewerID    0\n",
      "dtype: int64\n"
     ]
    }
   ],
   "source": [
    "missing_count = df.isnull().sum()\n",
    "print(missing_count)"
   ]
  },
  {
   "cell_type": "markdown",
   "metadata": {},
   "source": [
    "Trunchate the reviews to a maximum length"
   ]
  },
  {
   "cell_type": "code",
   "execution_count": 34,
   "metadata": {},
   "outputs": [],
   "source": [
    "def trunchate_review(text, max_length=400):\n",
    "    return text[:max_length]\n",
    "\n",
    "df['reviewText'] = df.apply(lambda row: trunchate_review(row['reviewText']), axis=1)\n",
    "\n",
    "df['overall'] = df.apply(lambda row: int(row['overall']), axis=1)\n"
   ]
  },
  {
   "cell_type": "code",
   "execution_count": 35,
   "metadata": {},
   "outputs": [
    {
     "data": {
      "text/html": [
       "<div>\n",
       "<style scoped>\n",
       "    .dataframe tbody tr th:only-of-type {\n",
       "        vertical-align: middle;\n",
       "    }\n",
       "\n",
       "    .dataframe tbody tr th {\n",
       "        vertical-align: top;\n",
       "    }\n",
       "\n",
       "    .dataframe thead th {\n",
       "        text-align: right;\n",
       "    }\n",
       "</style>\n",
       "<table border=\"1\" class=\"dataframe\">\n",
       "  <thead>\n",
       "    <tr style=\"text-align: right;\">\n",
       "      <th></th>\n",
       "      <th>overall</th>\n",
       "      <th>asin</th>\n",
       "      <th>reviewText</th>\n",
       "      <th>summary</th>\n",
       "      <th>reviewerID</th>\n",
       "    </tr>\n",
       "  </thead>\n",
       "  <tbody>\n",
       "    <tr>\n",
       "      <th>0</th>\n",
       "      <td>3</td>\n",
       "      <td>B000KPIHQ4</td>\n",
       "      <td>Good price, good product. Howver, it is generi...</td>\n",
       "      <td>Orthotics off the rack</td>\n",
       "      <td>A1CIM0XZ3UA926</td>\n",
       "    </tr>\n",
       "    <tr>\n",
       "      <th>1</th>\n",
       "      <td>5</td>\n",
       "      <td>B000KPIHQ4</td>\n",
       "      <td>My husband rates these insoles a 5 for comfort...</td>\n",
       "      <td>Very comfortable</td>\n",
       "      <td>A1EVVPCWRW5YYZ</td>\n",
       "    </tr>\n",
       "    <tr>\n",
       "      <th>2</th>\n",
       "      <td>5</td>\n",
       "      <td>B000KPIHQ4</td>\n",
       "      <td>I have worn the Powerstep Pinnacle shoe insole...</td>\n",
       "      <td>... Pinnacle shoe insoles for the past 5 years...</td>\n",
       "      <td>A2P3NZ9H4PANK0</td>\n",
       "    </tr>\n",
       "    <tr>\n",
       "      <th>3</th>\n",
       "      <td>1</td>\n",
       "      <td>B000KPIHQ4</td>\n",
       "      <td>Very uncomfortable feel like I wasted my money!</td>\n",
       "      <td>Uncomfortable</td>\n",
       "      <td>A2975GY186VV7A</td>\n",
       "    </tr>\n",
       "    <tr>\n",
       "      <th>4</th>\n",
       "      <td>5</td>\n",
       "      <td>B000KPIHQ4</td>\n",
       "      <td>work perfect</td>\n",
       "      <td>Five Stars</td>\n",
       "      <td>A3U8E58RIKWDAW</td>\n",
       "    </tr>\n",
       "    <tr>\n",
       "      <th>...</th>\n",
       "      <td>...</td>\n",
       "      <td>...</td>\n",
       "      <td>...</td>\n",
       "      <td>...</td>\n",
       "      <td>...</td>\n",
       "    </tr>\n",
       "    <tr>\n",
       "      <th>4366</th>\n",
       "      <td>5</td>\n",
       "      <td>B000KPIHQ4</td>\n",
       "      <td>My podiatrist recommended these Powerstep Inso...</td>\n",
       "      <td>Superb comfort and support</td>\n",
       "      <td>A7XUE85HN4TX0</td>\n",
       "    </tr>\n",
       "    <tr>\n",
       "      <th>4367</th>\n",
       "      <td>3</td>\n",
       "      <td>B000KPIHQ4</td>\n",
       "      <td>They worked well for the first few weeks and t...</td>\n",
       "      <td>Slid around in my shoes a bit</td>\n",
       "      <td>A1KTBKOTBM436K</td>\n",
       "    </tr>\n",
       "    <tr>\n",
       "      <th>4368</th>\n",
       "      <td>5</td>\n",
       "      <td>B000KPIHQ4</td>\n",
       "      <td>I think these are the best.</td>\n",
       "      <td>Five Stars</td>\n",
       "      <td>A3S84SEN2Z6DZU</td>\n",
       "    </tr>\n",
       "    <tr>\n",
       "      <th>4369</th>\n",
       "      <td>5</td>\n",
       "      <td>B000KPIHQ4</td>\n",
       "      <td>With plantar fasciitis, my feet hurt all the t...</td>\n",
       "      <td>With plantar fasciitis, my feet hurt all the t...</td>\n",
       "      <td>A3JRCF1I92QLW0</td>\n",
       "    </tr>\n",
       "    <tr>\n",
       "      <th>4370</th>\n",
       "      <td>5</td>\n",
       "      <td>B000KPIHQ4</td>\n",
       "      <td>i have muscular dystrophy and can't afford cus...</td>\n",
       "      <td>great</td>\n",
       "      <td>A2EKZF2KPCH2FQ</td>\n",
       "    </tr>\n",
       "  </tbody>\n",
       "</table>\n",
       "<p>4369 rows × 5 columns</p>\n",
       "</div>"
      ],
      "text/plain": [
       "      overall        asin                                         reviewText  \\\n",
       "0           3  B000KPIHQ4  Good price, good product. Howver, it is generi...   \n",
       "1           5  B000KPIHQ4  My husband rates these insoles a 5 for comfort...   \n",
       "2           5  B000KPIHQ4  I have worn the Powerstep Pinnacle shoe insole...   \n",
       "3           1  B000KPIHQ4    Very uncomfortable feel like I wasted my money!   \n",
       "4           5  B000KPIHQ4                                       work perfect   \n",
       "...       ...         ...                                                ...   \n",
       "4366        5  B000KPIHQ4  My podiatrist recommended these Powerstep Inso...   \n",
       "4367        3  B000KPIHQ4  They worked well for the first few weeks and t...   \n",
       "4368        5  B000KPIHQ4                        I think these are the best.   \n",
       "4369        5  B000KPIHQ4  With plantar fasciitis, my feet hurt all the t...   \n",
       "4370        5  B000KPIHQ4  i have muscular dystrophy and can't afford cus...   \n",
       "\n",
       "                                                summary      reviewerID  \n",
       "0                                Orthotics off the rack  A1CIM0XZ3UA926  \n",
       "1                                      Very comfortable  A1EVVPCWRW5YYZ  \n",
       "2     ... Pinnacle shoe insoles for the past 5 years...  A2P3NZ9H4PANK0  \n",
       "3                                         Uncomfortable  A2975GY186VV7A  \n",
       "4                                            Five Stars  A3U8E58RIKWDAW  \n",
       "...                                                 ...             ...  \n",
       "4366                         Superb comfort and support   A7XUE85HN4TX0  \n",
       "4367                      Slid around in my shoes a bit  A1KTBKOTBM436K  \n",
       "4368                                         Five Stars  A3S84SEN2Z6DZU  \n",
       "4369  With plantar fasciitis, my feet hurt all the t...  A3JRCF1I92QLW0  \n",
       "4370                                              great  A2EKZF2KPCH2FQ  \n",
       "\n",
       "[4369 rows x 5 columns]"
      ]
     },
     "execution_count": 35,
     "metadata": {},
     "output_type": "execute_result"
    }
   ],
   "source": [
    "df"
   ]
  },
  {
   "cell_type": "markdown",
   "metadata": {},
   "source": [
    "#### Create embeddings"
   ]
  },
  {
   "cell_type": "code",
   "execution_count": 36,
   "metadata": {},
   "outputs": [
    {
     "name": "stderr",
     "output_type": "stream",
     "text": [
      "c:\\Users\\Hori\\Desktop\\Evozon\\python\\llm\\myenv\\Lib\\site-packages\\sentence_transformers\\cross_encoder\\CrossEncoder.py:11: TqdmExperimentalWarning: Using `tqdm.autonotebook.tqdm` in notebook mode. Use `tqdm.tqdm` instead to force console mode (e.g. in jupyter console)\n",
      "  from tqdm.autonotebook import tqdm, trange\n"
     ]
    }
   ],
   "source": [
    "from langchain_huggingface import HuggingFaceEmbeddings\n",
    "embeddings = HuggingFaceEmbeddings()"
   ]
  },
  {
   "cell_type": "markdown",
   "metadata": {},
   "source": [
    "Get first 100 reviews and metadata"
   ]
  },
  {
   "cell_type": "code",
   "execution_count": 52,
   "metadata": {},
   "outputs": [],
   "source": [
    "# we convert the dataframe to a dictionary where the keys are the row indices \n",
    "# and the values are dictionaries of column data for each row\n",
    "reviews=df.head(100).to_dict(orient='index') \n",
    "\n",
    "texts=df.head(100)['reviewText'].to_list()\n",
    "summaries=df.head(100)['summary'].to_list()\n",
    "\n",
    "# Grab the metadata that will hold only the ovearll review score\n",
    "metadata=[dict(rating=i) for i in df.head(100)['overall'].tolist()]\n",
    "\n",
    "# Create the embeddings for the reviews and the summaries\n",
    "summary_vectors=embeddings.embed_documents(summaries)\n",
    "vectors=embeddings.embed_documents(texts)"
   ]
  },
  {
   "cell_type": "markdown",
   "metadata": {},
   "source": [
    "Get one review dict"
   ]
  },
  {
   "cell_type": "code",
   "execution_count": null,
   "metadata": {},
   "outputs": [],
   "source": [
    "for value in reviews.values():\n",
    "    print(value)\n",
    "    break"
   ]
  },
  {
   "cell_type": "markdown",
   "metadata": {},
   "source": [
    "Get one review text"
   ]
  },
  {
   "cell_type": "code",
   "execution_count": null,
   "metadata": {},
   "outputs": [],
   "source": [
    "for t in texts:\n",
    "    print(t)\n",
    "    break"
   ]
  },
  {
   "cell_type": "markdown",
   "metadata": {},
   "source": [
    "Get the metadata for one review"
   ]
  },
  {
   "cell_type": "code",
   "execution_count": 53,
   "metadata": {},
   "outputs": [
    {
     "data": {
      "text/plain": [
       "{'rating': 3}"
      ]
     },
     "execution_count": 53,
     "metadata": {},
     "output_type": "execute_result"
    }
   ],
   "source": [
    "metadata[0]"
   ]
  },
  {
   "cell_type": "markdown",
   "metadata": {},
   "source": [
    "Make sure they all have the same length"
   ]
  },
  {
   "cell_type": "code",
   "execution_count": 50,
   "metadata": {},
   "outputs": [
    {
     "name": "stdout",
     "output_type": "stream",
     "text": [
      "100\n",
      "100\n",
      "100\n",
      "100\n"
     ]
    }
   ],
   "source": [
    "print(len(vectors))\n",
    "print(len(summary_vectors))\n",
    "print(len(reviews))\n",
    "print(len(metadata))"
   ]
  },
  {
   "cell_type": "markdown",
   "metadata": {},
   "source": [
    "Get first review"
   ]
  },
  {
   "cell_type": "code",
   "execution_count": 26,
   "metadata": {},
   "outputs": [
    {
     "name": "stdout",
     "output_type": "stream",
     "text": [
      "{'overall': 3, 'asin': 'B000KPIHQ4', 'reviewText': 'Good price, good product. Howver, it is generic and if you really need orthotics, best to have them individually fitted. These are a good value.', 'summary': 'Orthotics off the rack', 'reviewerID': 'A1CIM0XZ3UA926'}\n"
     ]
    }
   ],
   "source": [
    "print(reviews[0])"
   ]
  },
  {
   "cell_type": "markdown",
   "metadata": {},
   "source": [
    "See what indexes we have in Redis"
   ]
  },
  {
   "cell_type": "code",
   "execution_count": 54,
   "metadata": {},
   "outputs": [
    {
     "data": {
      "text/plain": [
       "[]"
      ]
     },
     "execution_count": 54,
     "metadata": {},
     "output_type": "execute_result"
    }
   ],
   "source": [
    "r.execute_command('FT._LIST')"
   ]
  },
  {
   "cell_type": "markdown",
   "metadata": {},
   "source": [
    "## Add data to Redis using Lanchain"
   ]
  },
  {
   "cell_type": "markdown",
   "metadata": {},
   "source": [
    "##### We first add the data using Langchain"
   ]
  },
  {
   "cell_type": "code",
   "execution_count": 55,
   "metadata": {},
   "outputs": [],
   "source": [
    "vstore = Redis.from_texts(texts, embeddings, redis_url=redis_url,  index_name='reviewidx')\n",
    "\n",
    "vstore_meta = Redis.from_texts(texts, embeddings, redis_url=redis_url, index_name='reviewidx_meta',metadatas=metadata)"
   ]
  },
  {
   "cell_type": "markdown",
   "metadata": {},
   "source": [
    "Check again the indexes in Redis"
   ]
  },
  {
   "cell_type": "code",
   "execution_count": 56,
   "metadata": {},
   "outputs": [
    {
     "data": {
      "text/plain": [
       "[b'reviewidx_meta', b'reviewidx']"
      ]
     },
     "execution_count": 56,
     "metadata": {},
     "output_type": "execute_result"
    }
   ],
   "source": [
    "r.execute_command('FT._LIST')"
   ]
  },
  {
   "cell_type": "markdown",
   "metadata": {},
   "source": [
    "Grab data from the index"
   ]
  },
  {
   "cell_type": "code",
   "execution_count": null,
   "metadata": {},
   "outputs": [],
   "source": [
    "r.keys()"
   ]
  },
  {
   "cell_type": "markdown",
   "metadata": {},
   "source": [
    "Here we see the content_vector and the content inside an key from the index"
   ]
  },
  {
   "cell_type": "code",
   "execution_count": null,
   "metadata": {},
   "outputs": [],
   "source": [
    "r.hgetall('doc:reviewidx:a2f7ef92a0e144ae94a791a29960696d')"
   ]
  },
  {
   "cell_type": "markdown",
   "metadata": {},
   "source": [
    "Here we see what we have in the reviewidx_meta index, here besides the vector and the content we also have some metadata properites, the overall rating"
   ]
  },
  {
   "cell_type": "code",
   "execution_count": null,
   "metadata": {},
   "outputs": [],
   "source": [
    "r.hgetall('doc:reviewidx_meta:177cdd2eceb641d792eff4446f564e39')"
   ]
  },
  {
   "cell_type": "markdown",
   "metadata": {},
   "source": [
    "##### Here we add data to Redist using redispy"
   ]
  },
  {
   "cell_type": "code",
   "execution_count": 57,
   "metadata": {},
   "outputs": [],
   "source": [
    "from redis.commands.search.field import VectorField, TextField, NumericField\n",
    "from redis.commands.search.indexDefinition import IndexDefinition, IndexType"
   ]
  },
  {
   "cell_type": "markdown",
   "metadata": {},
   "source": [
    "Create schema for Redis and pipeline"
   ]
  },
  {
   "cell_type": "code",
   "execution_count": 60,
   "metadata": {},
   "outputs": [],
   "source": [
    "pipe = r.pipeline(transaction=False) # to buffer individual commands and execute them as a group"
   ]
  },
  {
   "cell_type": "markdown",
   "metadata": {},
   "source": [
    "Define the schema - this will have the embeddings added as binaries"
   ]
  },
  {
   "cell_type": "code",
   "execution_count": 61,
   "metadata": {},
   "outputs": [],
   "source": [
    "schema = (\n",
    "    TextField(\"overall\"),\n",
    "    TextField(\"reviewText\"),\n",
    "    TextField(\"summary\"),\n",
    "    VectorField(\"vector\", \"HNSW\", {\"TYPE\": \"FLOAT32\", \"DIM\": 768, \"DISTANCE_METRIC\": \"COSINE\"}), # HNSW - if you prefer speed over recall, flat is the oposite, if you prefer quality\n",
    ")"
   ]
  },
  {
   "cell_type": "markdown",
   "metadata": {},
   "source": [
    "Define the Index - hash index for the binaries"
   ]
  },
  {
   "cell_type": "code",
   "execution_count": null,
   "metadata": {},
   "outputs": [],
   "source": [
    "prefix=\"doc:reviewidx_hash\"\n",
    "\n",
    "r.ft(\"reviewidx_hashed\").create_index(fields=schema,\n",
    "                                      definition=IndexDefinition(prefix=[prefix],index_type=IndexType.HASH)\n",
    "                                     )"
   ]
  },
  {
   "cell_type": "markdown",
   "metadata": {},
   "source": [
    "Now we should have 3 indexes"
   ]
  },
  {
   "cell_type": "code",
   "execution_count": 64,
   "metadata": {},
   "outputs": [
    {
     "data": {
      "text/plain": [
       "[b'reviewidx_hashed', b'reviewidx_meta', b'reviewidx']"
      ]
     },
     "execution_count": 64,
     "metadata": {},
     "output_type": "execute_result"
    }
   ],
   "source": [
    "r.execute_command('FT._LIST')"
   ]
  },
  {
   "cell_type": "markdown",
   "metadata": {},
   "source": [
    "#### Upload the data to the Redis Index\n",
    "\n",
    "We store the data in byte format, each key will consist the prefix : + the reviewer ID of that review"
   ]
  },
  {
   "cell_type": "code",
   "execution_count": null,
   "metadata": {},
   "outputs": [],
   "source": [
    "import numpy as np\n",
    "\n",
    "for i in reviews.keys():\n",
    "    key = prefix + ':' + reviews[i]['reviewerID']\n",
    "    record = reviews[i] # We store the review here\n",
    "    record['vector'] = np.array(vectors[i]).astype(np.float32).tobytes() # we grab the embedding vector of that review and we store it as bytes\n",
    "    pipe.hset(key, mapping=record)\n",
    "\n",
    "pipe.execute()"
   ]
  },
  {
   "cell_type": "code",
   "execution_count": null,
   "metadata": {},
   "outputs": [],
   "source": [
    "r.keys()"
   ]
  },
  {
   "cell_type": "code",
   "execution_count": null,
   "metadata": {},
   "outputs": [],
   "source": [
    "r.hgetall('doc:reviewidx_hash:AH44ABIMZREO8')"
   ]
  },
  {
   "cell_type": "markdown",
   "metadata": {},
   "source": [
    "Store the data in JSON format\n",
    "\n",
    "We define the schema for a json format index"
   ]
  },
  {
   "cell_type": "code",
   "execution_count": 75,
   "metadata": {},
   "outputs": [],
   "source": [
    "prefix = \"doc:reviewidx_json\"\n",
    "\n",
    "schema = (TextField(\"$.asin\", as_name=\"asin\"),\n",
    "          TextField(\"$.reviewText\", as_name=\"reviewText\"),\n",
    "          TextField(\"$.reviewerID\", as_name=\"reviewerID\"),\n",
    "          TextField(\"$.summary\", as_name=\"summary\"),\n",
    "          NumericField(\"$.overall\", as_name=\"overall\"),\n",
    "          VectorField(\"$.vectors[*]\", \"HNSW\", {\"TYPE\": \"FLOAT32\", \"DIM\": 768, \"DISTANCE_METRIC\": \"COSINE\"},\n",
    "                      as_name=\"vector\")\n",
    "         )"
   ]
  },
  {
   "cell_type": "markdown",
   "metadata": {},
   "source": [
    "Create the json index"
   ]
  },
  {
   "cell_type": "code",
   "execution_count": 76,
   "metadata": {},
   "outputs": [
    {
     "data": {
      "text/plain": [
       "b'OK'"
      ]
     },
     "execution_count": 76,
     "metadata": {},
     "output_type": "execute_result"
    }
   ],
   "source": [
    "r.ft(\"doc:reviewidx_json\").create_index(schema, IndexDefinition(prefix=prefix, index_type=IndexType.JSON))"
   ]
  },
  {
   "cell_type": "markdown",
   "metadata": {},
   "source": [
    "Now we should have another index created, the reviewidx_json "
   ]
  },
  {
   "cell_type": "code",
   "execution_count": 77,
   "metadata": {},
   "outputs": [
    {
     "data": {
      "text/plain": [
       "[b'doc:reviewidx_json', b'reviewidx_hashed', b'reviewidx_meta', b'reviewidx']"
      ]
     },
     "execution_count": 77,
     "metadata": {},
     "output_type": "execute_result"
    }
   ],
   "source": [
    "r.execute_command('FT._LIST')"
   ]
  },
  {
   "cell_type": "markdown",
   "metadata": {},
   "source": [
    "Populate the index with data, here we don't transform the data to bytes, we save the vector directly because we are storing these as json objects"
   ]
  },
  {
   "cell_type": "code",
   "execution_count": null,
   "metadata": {},
   "outputs": [],
   "source": [
    "for i in reviews.keys():\n",
    "    key = prefix + ':' + reviews[i]['reviewerID']\n",
    "    record = reviews[i]\n",
    "    record['vector'] = vectors[i]\n",
    "    pipe.json().set(key, '$', record)\n",
    "\n",
    "pipe.execute()"
   ]
  },
  {
   "cell_type": "code",
   "execution_count": null,
   "metadata": {},
   "outputs": [],
   "source": [
    "r.keys()"
   ]
  },
  {
   "cell_type": "code",
   "execution_count": null,
   "metadata": {},
   "outputs": [],
   "source": [
    "r.json().get('doc:reviewidx_json:A2EKPBI3GVZRMQ', \"$\")"
   ]
  },
  {
   "cell_type": "markdown",
   "metadata": {},
   "source": [
    "Store multiple numeric arrays as vectors, this is useful when we have multiple vector embeddings representing the same object\n",
    "\n",
    "We will store the vector of the review and the summary of that review, so the VectorField will be an array with two values"
   ]
  },
  {
   "cell_type": "code",
   "execution_count": 84,
   "metadata": {},
   "outputs": [],
   "source": [
    "prefix = \"doc:reviewidx_json_multi\"\n",
    "\n",
    "schema = (TextField(\"$.asin\", as_name=\"asin\"),\n",
    "          TextField(\"$.reviewText\", as_name=\"reviewText\"),\n",
    "          TextField(\"$.reviewerID\", as_name=\"reviewerID\"),\n",
    "          TextField(\"$.summary\", as_name=\"summary\"),\n",
    "          NumericField(\"$.overall\", as_name=\"overall\"),\n",
    "          VectorField(\"$.vectors[*]\", \"HNSW\", {\"TYPE\": \"FLOAT32\", \"DIM\": 768, \"DISTANCE_METRIC\": \"COSINE\"},\n",
    "                      as_name=\"vector\") # the only difference is that we add the star operator for the vector field\n",
    "         )"
   ]
  },
  {
   "cell_type": "code",
   "execution_count": 85,
   "metadata": {},
   "outputs": [
    {
     "data": {
      "text/plain": [
       "b'OK'"
      ]
     },
     "execution_count": 85,
     "metadata": {},
     "output_type": "execute_result"
    }
   ],
   "source": [
    "r.ft(\"reviewidx_json_multi\").create_index(schema,\n",
    "                                          definition=IndexDefinition(prefix=[prefix], index_type=IndexType.JSON))"
   ]
  },
  {
   "cell_type": "markdown",
   "metadata": {},
   "source": [
    "Now we should have one more index created"
   ]
  },
  {
   "cell_type": "code",
   "execution_count": 86,
   "metadata": {},
   "outputs": [
    {
     "data": {
      "text/plain": [
       "[b'doc:reviewidx_json',\n",
       " b'reviewidx_hashed',\n",
       " b'reviewidx_meta',\n",
       " b'reviewidx',\n",
       " b'reviewidx_json_multi']"
      ]
     },
     "execution_count": 86,
     "metadata": {},
     "output_type": "execute_result"
    }
   ],
   "source": [
    "r.execute_command('FT._LIST')"
   ]
  },
  {
   "cell_type": "markdown",
   "metadata": {},
   "source": [
    "Store the data with vectors for both the reviews and the summaries"
   ]
  },
  {
   "cell_type": "code",
   "execution_count": null,
   "metadata": {},
   "outputs": [],
   "source": [
    "for i in reviews.keys():\n",
    "    key = prefix + ':' + reviews[i]['reviewerID']\n",
    "    record = reviews[i]\n",
    "    record['vectors'] = [vectors[i], summary_vectors[i]]\n",
    "    pipe.json().set(key, '$', record)\n",
    "pipe.execute()"
   ]
  },
  {
   "cell_type": "code",
   "execution_count": 88,
   "metadata": {},
   "outputs": [
    {
     "data": {
      "text/plain": [
       "[b'doc:reviewidx_json',\n",
       " b'reviewidx_hashed',\n",
       " b'reviewidx_meta',\n",
       " b'reviewidx',\n",
       " b'reviewidx_json_multi']"
      ]
     },
     "execution_count": 88,
     "metadata": {},
     "output_type": "execute_result"
    }
   ],
   "source": [
    "r.execute_command('FT._LIST')"
   ]
  },
  {
   "cell_type": "code",
   "execution_count": null,
   "metadata": {},
   "outputs": [],
   "source": [
    "r.keys()"
   ]
  },
  {
   "cell_type": "markdown",
   "metadata": {},
   "source": [
    "Read one key for multi json values"
   ]
  },
  {
   "cell_type": "code",
   "execution_count": null,
   "metadata": {},
   "outputs": [],
   "source": [
    "from redis.commands.json.path import Path\n",
    "r.json().get('doc:reviewidx_json_multi:A2VOWDGRV2HV9V', '$')"
   ]
  },
  {
   "cell_type": "markdown",
   "metadata": {},
   "source": [
    "Read only the Vectors list"
   ]
  },
  {
   "cell_type": "code",
   "execution_count": null,
   "metadata": {},
   "outputs": [],
   "source": [
    "from redis.commands.json.path import Path\n",
    "r.json().get('doc:reviewidx_json_multi:A2VOWDGRV2HV9V', Path('.vectors'))"
   ]
  },
  {
   "cell_type": "markdown",
   "metadata": {},
   "source": [
    "### Vector similarity search in Redis"
   ]
  },
  {
   "cell_type": "code",
   "execution_count": 94,
   "metadata": {},
   "outputs": [],
   "source": [
    "from redis.commands.search.query import Query\n",
    "\n",
    "# Formulate the query logic\n",
    "query_syntax = \"*=>[KNN 5 @vector $vec_param AS vector_score]\"\n",
    "vss_query=Query(query_syntax).return_fields(\"overall\", \"vector_score\").sort_by(\"vector_score\").dialect(2)\n",
    "\n",
    "# query string embedded and transfered to parameter dictionary to be used in search \n",
    "# The term we use to perfrom a semantic search\n",
    "query_string = \"Very uncomfortable\"\n",
    "embedded_query = np.array(embeddings.embed_documents([query_string])).astype(np.float32).tobytes()\n",
    "params_dict = {\"vec_param\": embedded_query}\n",
    "\n",
    "# VSS with Redis\n",
    "vss_results = r.ft('reviewidx_json_multi').search(vss_query, query_params=params_dict)"
   ]
  },
  {
   "cell_type": "markdown",
   "metadata": {},
   "source": [
    "These are the top 5 reviews that match the query string semantically "
   ]
  },
  {
   "cell_type": "code",
   "execution_count": 95,
   "metadata": {},
   "outputs": [
    {
     "data": {
      "text/plain": [
       "Result{5 total, docs: [Document {'id': 'doc:reviewidx_json_multi:A2975GY186VV7A', 'payload': None, 'vector_score': '0.150121450424', 'overall': '1'}, Document {'id': 'doc:reviewidx_json_multi:A1PWR1BTKHQ6YI', 'payload': None, 'vector_score': '0.215067088604', 'overall': '3'}, Document {'id': 'doc:reviewidx_json_multi:A1EVVPCWRW5YYZ', 'payload': None, 'vector_score': '0.233033597469', 'overall': '5'}, Document {'id': 'doc:reviewidx_json_multi:AYS2XX2ZG696Q', 'payload': None, 'vector_score': '0.375756263733', 'overall': '4'}, Document {'id': 'doc:reviewidx_json_multi:A3KM4IUYZGECBL', 'payload': None, 'vector_score': '0.473852336407', 'overall': '5'}]}"
      ]
     },
     "execution_count": 95,
     "metadata": {},
     "output_type": "execute_result"
    }
   ],
   "source": [
    "vss_results"
   ]
  },
  {
   "cell_type": "markdown",
   "metadata": {},
   "source": [
    "If we want to filter results - for eg we only want reviews that have an overall score of 3"
   ]
  },
  {
   "cell_type": "code",
   "execution_count": 102,
   "metadata": {},
   "outputs": [],
   "source": [
    "# Formulate the query logic here we add overall score as a filter\n",
    "query_syntax = \"(@overall:3)=>[KNN 5 @vector $vec_param AS vector_score]\"\n",
    "filtered_vss_query=Query(query_syntax).return_fields(\"overall\", \"vector_score\").sort_by(\"vector_score\").dialect(2)\n",
    "\n",
    "# query string embedded and transfered to parameter dictionary to be used in search \n",
    "# The term we use to perfrom a semantic search\n",
    "query_string = \"Very uncomfortable\"\n",
    "embedded_query = np.array(embeddings.embed_documents([query_string])).astype(np.float32).tobytes()\n",
    "params_dict = {\"vec_param\": embedded_query}\n",
    "\n",
    "# VSS with Redis\n",
    "filtered_vss_results = r.ft('reviewidx_hashed').search(filtered_vss_query, query_params=params_dict) # vss - vectory similarity search"
   ]
  },
  {
   "cell_type": "code",
   "execution_count": 107,
   "metadata": {},
   "outputs": [
    {
     "data": {
      "text/plain": [
       "Result{5 total, docs: [Document {'id': 'doc:reviewidx_hash:A1PWR1BTKHQ6YI', 'payload': None, 'vector_score': '0.375553369522', 'overall': '3'}, Document {'id': 'doc:reviewidx_hash:A1I2P233YDWG84', 'payload': None, 'vector_score': '0.726189613342', 'overall': '3'}, Document {'id': 'doc:reviewidx_hash:ARSARRLD6HGUW', 'payload': None, 'vector_score': '0.759466290474', 'overall': '3'}, Document {'id': 'doc:reviewidx_hash:A3M37ZYY651PZ7', 'payload': None, 'vector_score': '0.806888639927', 'overall': '3'}, Document {'id': 'doc:reviewidx_hash:A3VLCZ2RWKBJ83', 'payload': None, 'vector_score': '0.854798257351', 'overall': '3'}]}"
      ]
     },
     "execution_count": 107,
     "metadata": {},
     "output_type": "execute_result"
    }
   ],
   "source": [
    "filtered_vss_results"
   ]
  },
  {
   "cell_type": "markdown",
   "metadata": {},
   "source": [
    "### Pass the returned data to a LLM - to enhance the context of the LLM with our documents data"
   ]
  },
  {
   "cell_type": "markdown",
   "metadata": {},
   "source": [
    "We use the Mistral ai because it is free"
   ]
  },
  {
   "cell_type": "code",
   "execution_count": 111,
   "metadata": {},
   "outputs": [
    {
     "name": "stdout",
     "output_type": "stream",
     "text": [
      "The token has not been saved to the git credentials helper. Pass `add_to_git_credential=True` in this function directly or `--add-to-git-credential` if using via `huggingface-cli` if you want to set the git credential as well.\n",
      "Token is valid (permission: write).\n",
      "Your token has been saved to C:\\Users\\Hori\\.cache\\huggingface\\token\n",
      "Login successful\n"
     ]
    }
   ],
   "source": [
    "from langchain.prompts import PromptTemplate\n",
    "from langchain_huggingface import HuggingFaceEndpoint\n",
    "\n",
    "from langchain.chains import RetrievalQA\n",
    "from langchain.chains.summarize import load_summarize_chain\n",
    "\n",
    "\n",
    "repo_id = \"mistralai/Mistral-7B-Instruct-v0.2\"\n",
    "\n",
    "# Initialize the HuggingFaceEndpoint\n",
    "chat_llm = HuggingFaceEndpoint(repo_id=repo_id,\n",
    "                          temperature=0.2,\n",
    "                          huggingfacehub_api_token=hugging_face_token)\n",
    "\n"
   ]
  },
  {
   "cell_type": "markdown",
   "metadata": {},
   "source": [
    "#### We do a similarity search useing Langchain Reids"
   ]
  },
  {
   "cell_type": "markdown",
   "metadata": {},
   "source": [
    "Connect to redis from Langchain using from_existing_index method, we pass the index name the schema of the index, the embeddings and the url"
   ]
  },
  {
   "cell_type": "markdown",
   "metadata": {},
   "source": [
    "We need to define the schema of the index we want to query"
   ]
  },
  {
   "cell_type": "code",
   "execution_count": 132,
   "metadata": {},
   "outputs": [],
   "source": [
    "schema = {\n",
    "    \"content\": TextField(\"content\"),\n",
    "    \"content_vector\": VectorField(\"content_vector\", \"HNSW\", {\"TYPE\": \"FLOAT32\", \"DIM\": 768, \"DISTANCE_METRIC\": \"COSINE\"})\n",
    "}\n",
    "\n",
    "vstore = Redis.from_existing_index(index_name='reviewidx', schema=schema, embedding=embeddings,redis_url=redis_url)"
   ]
  },
  {
   "cell_type": "markdown",
   "metadata": {},
   "source": [
    "Define a chain that allows us to ask questions about the review data, stuff means that we add the docuemnts extracted to the llm to enhance it with the knowledge from  the docs"
   ]
  },
  {
   "cell_type": "code",
   "execution_count": 133,
   "metadata": {},
   "outputs": [],
   "source": [
    "review_chain = RetrievalQA.from_chain_type(llm=chat_llm, chain_type=\"stuff\", retriever=vstore.as_retriever())"
   ]
  },
  {
   "cell_type": "markdown",
   "metadata": {},
   "source": [
    "Define the prompt with the question we want to ask the llm that was enahcned with the documents from Redis that match our question"
   ]
  },
  {
   "cell_type": "code",
   "execution_count": 134,
   "metadata": {},
   "outputs": [
    {
     "name": "stderr",
     "output_type": "stream",
     "text": [
      "score_threshold is deprecated. Use distance_threshold instead.score_threshold should only be used in similarity_search_with_relevance_scores.score_threshold will be removed in a future release.\n"
     ]
    }
   ],
   "source": [
    "q=\"\"\"\n",
    "The reviews you see are for a product called 'Powerstep Pinnacle Orthotic Shoe Insoles'.\n",
    "What is the overall impression of these reviews? Give most prevalent examples in bullets.\n",
    "What do you suggest we focus on improving?\n",
    "\"\"\"\n",
    "\n",
    "result=review_chain.run(q)"
   ]
  },
  {
   "cell_type": "code",
   "execution_count": 135,
   "metadata": {},
   "outputs": [
    {
     "name": "stdout",
     "output_type": "stream",
     "text": [
      "\n",
      "\n",
      "The overall impression of these reviews is that the Powerstep Pinnacle Orthotic Shoe Insoles are highly effective in providing relief from plantar fasciitis and other foot-related issues. Here are some prevalent examples from the reviews:\n",
      "\n",
      "- Worked for more than three years without any recurrence of foot pain or discomfort.\n",
      "- Slipped easily into shoes and were comfortable.\n",
      "- Required almost no care.\n",
      "- Doctor prescribed and highly recommended.\n",
      "- Provided good arch support and cushioning.\n",
      "\n",
      "Based on these reviews, it seems that the Powerstep Pinnacle Orthotic Shoe Insoles are effective in providing relief from foot pain and discomfort, and are comfortable and easy to use. However, some users have mentioned that the edges can fray over time and may need to be replaced.\n",
      "\n",
      "To improve the product, the manufacturer could consider using more durable materials for the edges of the insoles to increase their longevity. Additionally, they could explore options for customizing the insoles to better fit individual foot shapes and sizes.\n"
     ]
    }
   ],
   "source": [
    "print(result)"
   ]
  },
  {
   "cell_type": "markdown",
   "metadata": {},
   "source": [
    "#### How to do vector similarity search using redispy and pass the data to the llm"
   ]
  },
  {
   "cell_type": "code",
   "execution_count": 138,
   "metadata": {},
   "outputs": [],
   "source": [
    "from langchain_core.documents import Document"
   ]
  },
  {
   "cell_type": "markdown",
   "metadata": {},
   "source": [
    "We get the documents that match the semantic query"
   ]
  },
  {
   "cell_type": "code",
   "execution_count": 139,
   "metadata": {},
   "outputs": [],
   "source": [
    "query_syntax = \"*=>[KNN 5 @vector $vec_param AS vector_score]\"\n",
    "\n",
    "vss_query=Query(query_syntax).return_fields(\"overall\", \"vector_score\",\"reviewText\",\"summary\").dialect(2)\n",
    "\n",
    "query_string=\"Very uncomfortable\"\n",
    "embedded_query=np.array(embeddings.embed_documents([query_string])).astype(np.float32).tobytes()\n",
    "\n",
    "params_dict = {\"vec_param\": embedded_query}\n",
    "\n",
    "vss_results = r.ft('reviewidx_hashed').search(vss_query, query_params = params_dict)"
   ]
  },
  {
   "cell_type": "code",
   "execution_count": 140,
   "metadata": {},
   "outputs": [
    {
     "data": {
      "text/plain": [
       "Result{5 total, docs: [Document {'id': 'doc:reviewidx_hash:A2975GY186VV7A', 'payload': None, 'vector_score': '0.365598320961', 'overall': '1', 'reviewText': 'Very uncomfortable feel like I wasted my money!', 'summary': 'Uncomfortable'}, Document {'id': 'doc:reviewidx_hash:AYS2XX2ZG696Q', 'payload': None, 'vector_score': '0.593012928963', 'overall': '4', 'reviewText': 'Comfortable, easy to \"install\" and I love that these come in \"sizes\" to match the shoe size, no trimming and misalignment. They\\'ve held up well and I\\'m running around a hospital all day.', 'summary': 'Comfortable and easy'}, Document {'id': 'doc:reviewidx_hash:A14JFIGG7U8A3D', 'payload': None, 'vector_score': '0.505637288094', 'overall': '5', 'reviewText': \"It's great and comfortable\", 'summary': 'Five Stars'}, Document {'id': 'doc:reviewidx_hash:A3KM4IUYZGECBL', 'payload': None, 'vector_score': '0.556343197823', 'overall': '5', 'reviewText': 'Very comfortable and well padded.  Only problem, too big for my shoes and boots.  Fit nicely in my sneakers.', 'summary': 'Very comfortable and well padded'}, Document {'id': 'doc:reviewidx_hash:A1PWR1BTKHQ6YI', 'payload': None, 'vector_score': '0.375553369522', 'overall': '3', 'reviewText': 'Kind of hard. Not comfortable at all.', 'summary': 'Not comfortable at all'}]}"
      ]
     },
     "execution_count": 140,
     "metadata": {},
     "output_type": "execute_result"
    }
   ],
   "source": [
    "vss_results"
   ]
  },
  {
   "cell_type": "code",
   "execution_count": 141,
   "metadata": {},
   "outputs": [],
   "source": [
    "docs=[]\n",
    "for review in vss_results.docs:\n",
    "    result_string = ''\n",
    "    result_string += \" review score:\" + review.overall + ' ' + review.reviewText + ' ' + review.summary\n",
    "    docs.append(Document(page_content=result_string))"
   ]
  },
  {
   "cell_type": "code",
   "execution_count": 142,
   "metadata": {},
   "outputs": [
    {
     "data": {
      "text/plain": [
       "[Document(page_content=' review score:1 Very uncomfortable feel like I wasted my money! Uncomfortable'),\n",
       " Document(page_content=' review score:4 Comfortable, easy to \"install\" and I love that these come in \"sizes\" to match the shoe size, no trimming and misalignment. They\\'ve held up well and I\\'m running around a hospital all day. Comfortable and easy'),\n",
       " Document(page_content=\" review score:5 It's great and comfortable Five Stars\"),\n",
       " Document(page_content=' review score:5 Very comfortable and well padded.  Only problem, too big for my shoes and boots.  Fit nicely in my sneakers. Very comfortable and well padded'),\n",
       " Document(page_content=' review score:3 Kind of hard. Not comfortable at all. Not comfortable at all')]"
      ]
     },
     "execution_count": 142,
     "metadata": {},
     "output_type": "execute_result"
    }
   ],
   "source": [
    "docs"
   ]
  },
  {
   "cell_type": "markdown",
   "metadata": {},
   "source": [
    "Here we use load_summarize_chain"
   ]
  },
  {
   "cell_type": "code",
   "execution_count": 143,
   "metadata": {},
   "outputs": [],
   "source": [
    "prompt_template_summary = \"\"\"\n",
    "Write a summary of the reviews:\n",
    "\n",
    "{text}\n",
    "\n",
    "The summary should be about five lines long\n",
    "\"\"\"\n",
    "PROMPT = PromptTemplate(template=prompt_template_summary, input_variables=[\"text\"])\n",
    "chain = load_summarize_chain(chat_llm, chain_type=\"stuff\", prompt=PROMPT)\n",
    "summary=chain.run(docs)"
   ]
  },
  {
   "cell_type": "code",
   "execution_count": 144,
   "metadata": {},
   "outputs": [
    {
     "name": "stdout",
     "output_type": "stream",
     "text": [
      "\n",
      "These insoles received mixed reviews, with some customers praising their comfort and ease of installation, while others found them to be uncomfortable and ill-fitting. The insoles come in various sizes to match shoe sizes, reducing the need for trimming and misalignment. Some users reported that they held up well, even during long hospital shifts. However, others found them to be too large for their shoes and boots, and not comfortable at all. Overall, the insoles received an average rating, with some customers expressing disappointment and others expressing satisfaction.\n"
     ]
    }
   ],
   "source": [
    "print(summary)"
   ]
  }
 ],
 "metadata": {
  "kernelspec": {
   "display_name": "myenv",
   "language": "python",
   "name": "python3"
  },
  "language_info": {
   "codemirror_mode": {
    "name": "ipython",
    "version": 3
   },
   "file_extension": ".py",
   "mimetype": "text/x-python",
   "name": "python",
   "nbconvert_exporter": "python",
   "pygments_lexer": "ipython3",
   "version": "3.12.2"
  }
 },
 "nbformat": 4,
 "nbformat_minor": 2
}
