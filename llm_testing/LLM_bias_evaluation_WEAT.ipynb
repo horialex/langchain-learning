{
 "cells": [
  {
   "cell_type": "markdown",
   "metadata": {},
   "source": [
    "# Evaluate LLM for biases using WEAT\n",
    "\n",
    "WEAT = Word Embeddings Associations Test"
   ]
  },
  {
   "cell_type": "markdown",
   "metadata": {},
   "source": [
    "The Word Embedding Association Test (WEAT) is a method used to evaluate bias in word embeddings. It helps measure the association between different sets of words, highlighting potential biases such as gender or racial stereotypes encoded in language models"
   ]
  },
  {
   "cell_type": "markdown",
   "metadata": {},
   "source": [
    "<b>Objective:</b>\n",
    "\n",
    "Measure the strength and direction of associations between word embeddings and predefined categories.\n",
    "Real-world implications of biases in word embeddings."
   ]
  },
  {
   "cell_type": "code",
   "execution_count": 1,
   "metadata": {},
   "outputs": [],
   "source": [
    "import numpy as np\n",
    "import pandas as pd\n",
    "from sklearn.metrics.pairwise import cosine_similarity\n",
    "from scipy.spatial.distance import cosine\n",
    "from langchain_huggingface import HuggingFaceEmbeddings\n",
    "from sklearn.utils import shuffle"
   ]
  },
  {
   "cell_type": "markdown",
   "metadata": {},
   "source": [
    "### The embeddings Model"
   ]
  },
  {
   "cell_type": "code",
   "execution_count": 2,
   "metadata": {},
   "outputs": [
    {
     "name": "stderr",
     "output_type": "stream",
     "text": [
      "c:\\Users\\Hori\\Desktop\\Evozon\\python\\llm\\llm_env\\Lib\\site-packages\\sentence_transformers\\cross_encoder\\CrossEncoder.py:11: TqdmWarning: IProgress not found. Please update jupyter and ipywidgets. See https://ipywidgets.readthedocs.io/en/stable/user_install.html\n",
      "  from tqdm.autonotebook import tqdm, trange\n",
      "c:\\Users\\Hori\\Desktop\\Evozon\\python\\llm\\llm_env\\Lib\\site-packages\\transformers\\tokenization_utils_base.py:1601: FutureWarning: `clean_up_tokenization_spaces` was not set. It will be set to `True` by default. This behavior will be depracted in transformers v4.45, and will be then set to `False` by default. For more details check this issue: https://github.com/huggingface/transformers/issues/31884\n",
      "  warnings.warn(\n"
     ]
    }
   ],
   "source": [
    "embedding_model = HuggingFaceEmbeddings()"
   ]
  },
  {
   "cell_type": "markdown",
   "metadata": {},
   "source": [
    "#### Get embeddings"
   ]
  },
  {
   "cell_type": "code",
   "execution_count": 3,
   "metadata": {},
   "outputs": [],
   "source": [
    "def get_embedding(word, model):\n",
    "    embedding = model.embed_query(word)\n",
    "    return np.array(embedding)  # Convert the embedding to a NumPy array for further computations"
   ]
  },
  {
   "cell_type": "markdown",
   "metadata": {},
   "source": [
    "#### Cosine simmilarity\n",
    "\n",
    "Computes the cosine similarity between two vectors. The cosine similarity measures how similar two vectors are, ranging from -1 (opposite) to 1 (identical)."
   ]
  },
  {
   "cell_type": "code",
   "execution_count": 4,
   "metadata": {},
   "outputs": [],
   "source": [
    "def cosine_similarity(vec1, vec2):\n",
    "    # This function measures the similarity between two vectors using cosine similarity.\n",
    "    # If any of the vectors is None, it returns 0 to handle missing embeddings.\n",
    "    if vec1 is None or vec2 is None:\n",
    "        return 0\n",
    "    # Cosine similarity is calculated as 1 - cosine distance between the vectors.\n",
    "    return 1 - cosine(vec1, vec2)"
   ]
  },
  {
   "cell_type": "markdown",
   "metadata": {},
   "source": [
    "#### Compute the association score\n",
    "\n",
    "This function calculates how much a target word (e.g., \"man\") is associated with an attribute set (e.g., career words). We calculate cosine similarity between the target word's embedding and each attribute word's embedding and we return the mean\n",
    "\n",
    "<b>In other words:</b>\n",
    "\n",
    "For each word in the target set, this function calculates its average cosine similarity with all words in an attribute set. This average similarity indicates how closely the target word is associated with the attribute set"
   ]
  },
  {
   "cell_type": "code",
   "execution_count": 5,
   "metadata": {},
   "outputs": [],
   "source": [
    "def association(word, attribute_set, model):\n",
    "     # Get the embedding of the input word\n",
    "    word_embedding = get_embedding(word, model)\n",
    "    \n",
    "    # If no embedding is found, return 0 (no association)\n",
    "    if word_embedding is None:\n",
    "        return 0\n",
    "    \n",
    "    # Calculate similarities with each word in the attribute set\n",
    "    similarities = []\n",
    "    for attr_word in attribute_set:\n",
    "        # Get the embedding of the attribute word\n",
    "        attr_embedding = get_embedding(attr_word, model)\n",
    "        \n",
    "        if attr_embedding is not None:\n",
    "            similarities.append(cosine_similarity(word_embedding, attr_embedding))\n",
    "        \n",
    "    # Calculate and return the average simmilarity\n",
    "    return np.mean(similarities)\n",
    "        "
   ]
  },
  {
   "cell_type": "markdown",
   "metadata": {},
   "source": [
    "#### WEAT Score\n",
    "\n",
    "Compute the WEAT score for two target sets and two attribute sets\n",
    "\n",
    "This measures the bias by comparing the associations between target and atrribute sets\n",
    "The effect size shows the strength and direction of the bias\n",
    "\n",
    "\n",
    "Step by step explanation:\n",
    "\n",
    "- For each word in target_set1, compute its association difference between attribute_set1 and attribute_set2\n",
    "- Repeat for each word in target_set2\n",
    "- Calculate the mean difference in association scores between the two target sets\n",
    "- Compute the pooled standard deviation of the associations for normalization\n",
    "- Return the effect size wich indicates the strength and direction of the bias"
   ]
  },
  {
   "cell_type": "code",
   "execution_count": 6,
   "metadata": {},
   "outputs": [],
   "source": [
    "def weat_score(target_set1, target_set2, attribute_set1, attribute_set2, model):\n",
    "    # Step 1: Compute associations for target_set1 with the attribute sets\n",
    "    target1_associations = []\n",
    "    for word in target_set1:\n",
    "        # Association with attribute_set1 minus association with attribute_set2\n",
    "        association_diff = association(word, attribute_set1, model) - association(word, attribute_set2, model)\n",
    "        target1_associations.append(association_diff)\n",
    "    \n",
    "    # Step 2: Compute associations for target_set2 with the attribute set \n",
    "    target2_associations = []\n",
    "    for word in target_set2:\n",
    "        # Association with attribute_set1 minus assoications with attribute_set2\n",
    "        association_diff = association(word, attribute_set1, model) - association(word, attribute_set2, model)\n",
    "        target2_associations.append(association_diff)\n",
    "\n",
    "    # Step 3: Calculate the mean difference in associations between the two target sets\n",
    "    mean_diff = np.mean(target1_associations) - np.mean(target2_associations)\n",
    "    \n",
    "    # Step 4: Calculate the pooled standard deviation of all associations\n",
    "    pooled_std = np.std(target1_associations + target2_associations)\n",
    "    \n",
    "    # Step 5: Calculate the WEAT score (effect_size) - shows the strength and direction of the bias\n",
    "    effect_size = mean_diff / pooled_std\n",
    "    \n",
    "    return effect_size"
   ]
  },
  {
   "cell_type": "markdown",
   "metadata": {},
   "source": [
    "#### Define the Target and Attribute sets"
   ]
  },
  {
   "cell_type": "markdown",
   "metadata": {},
   "source": [
    "I am defing two sets sets of words and two sets of attributes and I want to measure the association between these.\n",
    "\n",
    "The ideea is to measure the bias between the target sets and the atribute sets"
   ]
  },
  {
   "cell_type": "code",
   "execution_count": 7,
   "metadata": {},
   "outputs": [],
   "source": [
    "# These sets are used to measure the bias encoded in the embeddings.\n",
    "target_set1_male = [\"man\", \"male\", \"boy\", \"brother\", \"he\", \"him\", \"son\"]\n",
    "target_set2_female = [\"woman\", \"female\", \"girl\", \"sister\", \"she\", \"her\", \"daughter\"]\n",
    "\n",
    "attribute_set1_corporate = [\"executive\", \"management\", \"professional\", \"corporate\", \"salary\", \"office\"]\n",
    "attribute_set2_family = [\"home\", \"parents\", \"children\", \"family\", \"household\", \"marriage\"]"
   ]
  },
  {
   "cell_type": "markdown",
   "metadata": {},
   "source": [
    "#### Calculate the WEAT score"
   ]
  },
  {
   "cell_type": "markdown",
   "metadata": {},
   "source": [
    "Calculate the WEAT score using the defined sets and the embedding model"
   ]
  },
  {
   "cell_type": "code",
   "execution_count": 8,
   "metadata": {},
   "outputs": [
    {
     "name": "stdout",
     "output_type": "stream",
     "text": [
      "WEAT Effect Size: 0.3711316442246737\n"
     ]
    }
   ],
   "source": [
    "score = weat_score(target_set1_male, target_set2_female, attribute_set1_corporate, attribute_set2_family, embedding_model)\n",
    "print(f\"WEAT Effect Size: {score}\")"
   ]
  },
  {
   "cell_type": "markdown",
   "metadata": {},
   "source": [
    "#### WEAT Score interpretation"
   ]
  },
  {
   "cell_type": "markdown",
   "metadata": {},
   "source": [
    "The printed WEAT Effect Size indicates the bias:\n",
    "\n",
    "- A positive effect size suggests that target_set1 (e.g., male terms) is more strongly associated with attribute_set1 (e.g., career words) than target_set2\n",
    "- A negative effect size indicates the opposite association\n",
    "- The magnitude of the effect size shows the strength of the bias. "
   ]
  },
  {
   "cell_type": "markdown",
   "metadata": {},
   "source": [
    "In this case we can say that there is a ~37% bias that professional career terms will be more associated with male attributes"
   ]
  },
  {
   "cell_type": "markdown",
   "metadata": {},
   "source": [
    "####  Understanding the WEAT Score\n",
    "The WEAT score, also known as the effect size (d), measures how strongly one target set (e.g., words related to \"male\") is associated with one attribute set (e.g., words related to \"career\") compared to another target set (e.g., words related to \"female\"). The effect size is a numerical value that helps us understand these associations:\n",
    "\n",
    "- Positive Effect Size (d > 0): Indicates that words in the first target set (e.g., \"male\") are more strongly associated with words in the first attribute set (e.g., \"career\") than the second target set (e.g., \"female\").\n",
    "- Negative Effect Size (d < 0): Indicates that words in the second target set (e.g., \"female\") are more strongly associated with words in the first attribute set (e.g., \"career\")"
   ]
  },
  {
   "cell_type": "markdown",
   "metadata": {},
   "source": [
    "Here for this combination we have a positive score of 0.37 - meaning that there is a bias that male target words are more associated with career terms than are female target words"
   ]
  },
  {
   "cell_type": "markdown",
   "metadata": {},
   "source": [
    "### P-value"
   ]
  },
  {
   "cell_type": "markdown",
   "metadata": {},
   "source": [
    "The p-value helps us determine whether the observed associations (WEAT score) are due to random chance or a real bias present in the model's embeddings.\n",
    "\n",
    "- Small p-value (close to 0): Indicates that the association observed (the WEAT score) is unlikely to have occurred by chance. This suggests that the model has a statistically significant bias in how it associates the target words with the attribute words.\n",
    "- High p-value: Implies that the associations might be due to random variation and not indicative of a meaningful bias."
   ]
  },
  {
   "cell_type": "code",
   "execution_count": 10,
   "metadata": {},
   "outputs": [
    {
     "name": "stdout",
     "output_type": "stream",
     "text": [
      "Observed WEAT Score: 0.3711316442246737\n",
      "P-value: 0.66\n"
     ]
    }
   ],
   "source": [
    "def compute_p_value(target_set1, target_set2, attribute_set1, attribute_set2, model, num_permutations=50):\n",
    "    # Compute the observed WEAT score\n",
    "    observed_score = weat_score(target_set1, target_set2, attribute_set1, attribute_set2, model)\n",
    "    \n",
    "    # Generate null distribution of WEAT scores by permuting the target sets - this is for testing the Null Hypothesis \n",
    "    null_scores = []\n",
    "    all_targets = target_set1 + target_set2\n",
    "    \n",
    "    for _ in range(num_permutations):\n",
    "        shuffled_targets = shuffle(all_targets)\n",
    "        shuffeled_set1 = shuffled_targets[:len(target_set1)]\n",
    "        shuffeled_set2 = shuffled_targets[len(target_set1):]\n",
    "        \n",
    "        score = weat_score(shuffeled_set1, shuffeled_set2, attribute_set1, attribute_set2, model)\n",
    "        null_scores.append(score)\n",
    "    \n",
    "    # Compute the p-value\n",
    "    null_scores = np.array(null_scores)\n",
    "    p_value = np.mean(np.abs(null_scores) >= np.abs(observed_score))\n",
    "    \n",
    "    return observed_score, p_value\n",
    "\n",
    "# Compute p-value\n",
    "observed_score, p_value = compute_p_value(target_set1_male, target_set2_female, attribute_set1_corporate, attribute_set2_family, embedding_model)\n",
    "print(f\"Observed WEAT Score: {observed_score}\")\n",
    "print(f\"P-value: {p_value}\")\n",
    "    "
   ]
  },
  {
   "cell_type": "markdown",
   "metadata": {},
   "source": [
    "#### P-value interpretation"
   ]
  },
  {
   "cell_type": "markdown",
   "metadata": {},
   "source": [
    "A p-value of 0.66 is quite high, which suggests that the observed WEAT score is not very unusual compared to what you would expect by random chance. In other words, there is a 66% chance that a WEAT score as extreme as 0.3711 could occur just due to random variation if there were no actual bias.\n",
    "\n",
    "<b>Conclusion Regarding Bias:</b>\n",
    "\n",
    "- Fail to Reject Null Hypothesis: Since the p-value is much larger than common significance levels like 0.05 or 0.01, you do not have strong evidence to reject the null hypothesis. This means that based on this test, there is no significant evidence of bias between the target groups and the attributes.\n",
    "- No Significant Bias Detected: The results suggest that the associations observed in the word embeddings do not show a strong or statistically significant bias. Any observed differences in the WEAT score are likely due to random fluctuations rather than a real underlying bias."
   ]
  },
  {
   "cell_type": "markdown",
   "metadata": {},
   "source": [
    "Observed WEAT Score (0.3711): Indicates the degree of difference in associations.\n",
    "\n",
    "\n",
    "P-value (0.66): Indicates that the observed score is not statistically significant; there's a high probability that the result is due to chance.\n",
    "In practical terms, you would interpret these results as no significant evidence of bias in the word embeddings between the target groups and attributes based on this particular test."
   ]
  }
 ],
 "metadata": {
  "kernelspec": {
   "display_name": "llm_env",
   "language": "python",
   "name": "python3"
  },
  "language_info": {
   "codemirror_mode": {
    "name": "ipython",
    "version": 3
   },
   "file_extension": ".py",
   "mimetype": "text/x-python",
   "name": "python",
   "nbconvert_exporter": "python",
   "pygments_lexer": "ipython3",
   "version": "3.12.2"
  }
 },
 "nbformat": 4,
 "nbformat_minor": 2
}
